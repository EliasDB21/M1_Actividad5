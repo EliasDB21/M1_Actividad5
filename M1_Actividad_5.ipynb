{
  "nbformat": 4,
  "nbformat_minor": 0,
  "metadata": {
    "colab": {
      "provenance": []
    },
    "kernelspec": {
      "name": "python3",
      "display_name": "Python 3"
    },
    "language_info": {
      "name": "python"
    }
  },
  "cells": [
    {
      "cell_type": "markdown",
      "source": [
        "#Yamil Elias Del Blanco Chavez - A00838610- IDM"
      ],
      "metadata": {
        "id": "9uIOqNZfisvA"
      }
    },
    {
      "cell_type": "markdown",
      "source": [
        "Ejercicio 1."
      ],
      "metadata": {
        "id": "kt4zXsWtj9iI"
      }
    },
    {
      "cell_type": "code",
      "source": [
        "import numpy as np, random\n",
        "#Ejercicio 1 (Numpy)\n",
        "# TODO-1.-Crear un vector “x” con 10 ceros y mostrarlo\n",
        "x = np.zeros(10)\n",
        "print(x)\n",
        "# TODO-2.-Modificar el quinto elemento del vector x para que su valor sea 3.\n",
        "x[4] = 3\n",
        "print(x)\n",
        "# TODO-3.-Crear un vector “y” con valores del 1 al 20, de 1 en 1. Utiliza la función arange.\n",
        "y = np.arange(1,21,1)\n",
        "print(y)\n",
        "# TODO-4.- Crear un vector “z” con valores del 1 al 20, de 2 en 2.\n",
        "z = np.arange(1,21,2)\n",
        "print(z)\n",
        "# TODO-5.- Crear una matriz w de 3x2, con valores iniciales en 0.\n",
        "w = np.zeros((3,2))\n",
        "print(w)\n",
        "# TODO-6.- Modificar el elemento en la posición 2,2 de la matriz w para que su valor sea 5.\n",
        "w[1,1] = 5\n",
        "print(w)\n",
        "# TODO-7.- Crear un vector de 5 elementos, con valores aleatorios enteros entre 1 y 10.\n",
        "v = np.zeros(5)\n",
        "for number in range(len(v)):\n",
        "    v[number] = random.randint(1,10)\n",
        "print(v)\n",
        "# TODO-8.- Crear el arreglo x1 de la lista [1,2,3]\n",
        "x1 = np.array([1,2,3])\n",
        "print(x1)\n",
        "# TODO-9.-  Sumar 10 a cada elemento del vector\n",
        "for number in range(len(x1)):\n",
        "    x1[number]+=10\n",
        "print(x1)"
      ],
      "metadata": {
        "colab": {
          "base_uri": "https://localhost:8080/"
        },
        "id": "zHQQt8Tki3nE",
        "outputId": "92c1fc60-049d-4769-a0e1-a6a61b92e04c"
      },
      "execution_count": 83,
      "outputs": [
        {
          "output_type": "stream",
          "name": "stdout",
          "text": [
            "[0. 0. 0. 0. 0. 0. 0. 0. 0. 0.]\n",
            "[0. 0. 0. 0. 3. 0. 0. 0. 0. 0.]\n",
            "[ 1  2  3  4  5  6  7  8  9 10 11 12 13 14 15 16 17 18 19 20]\n",
            "[ 1  3  5  7  9 11 13 15 17 19]\n",
            "[[0. 0.]\n",
            " [0. 0.]\n",
            " [0. 0.]]\n",
            "[[0. 0.]\n",
            " [0. 5.]\n",
            " [0. 0.]]\n",
            "[ 4.  1.  7. 10.  6.]\n",
            "[1 2 3]\n",
            "[11 12 13]\n"
          ]
        }
      ]
    },
    {
      "cell_type": "markdown",
      "source": [
        "Ejercicio 2."
      ],
      "metadata": {
        "id": "UG08pM_YjK-o"
      }
    },
    {
      "cell_type": "code",
      "source": [
        "import pandas\n",
        "#Ejercicio 2\n",
        "# TODO-1.-Generar un DataFrame con los datos del archivo.\n",
        "data = pandas.read_csv(\"titanic-1.csv\")\n",
        "df = pandas.DataFrame(data)\n",
        "# TODO-2.Mostrar por pantalla las dimensiones del DataFrame, el número de datos que contiene, los nombres de sus columnas y filas, los tipos de datos de las columnas, las 10 primeras filas y las 10 últimas filas\n",
        "print(\"Dimensiones:\", df.shape)\n",
        "print(\"Numero de datos:\", df.size)\n",
        "print(\"Columnas:\", df.columns.tolist())\n",
        "print(\"Índices:\", df.index.tolist())\n",
        "print(\"\\nTipos de datos:\")\n",
        "print(df.dtypes)\n",
        "print(\"10 primeras filas:\")\n",
        "print(df.head(10))\n",
        "print(\"10 ultimas filas:\")\n",
        "print(df.tail(10))\n",
        "\n",
        "# TODO-3.-Mostrar por pantalla los datos del pasajero con identificador 148.\n",
        "print(df[data.PassengerId == 148])\n",
        "\n",
        "# TODO-4.-Mostrar por pantalla las filas pares del DataFrame.\n",
        "print(df.iloc[::2])\n",
        "\n",
        "# TODO-5.-Mostrar por pantalla los nombres de las personas que iban en primera clase ordenadas alfabéticamente.\n",
        "primeraClase = df[data.Pclass == 1]\n",
        "primeraClase = primeraClase.sort_values(by=\"Name\")\n",
        "print(primeraClase.Name)\n",
        "\n",
        "# TODO-6. -Mostrar por pantalla el porcentaje de personas que sobrevivieron y murieron.\n",
        "total = df.shape[0]\n",
        "sobrevivieron = len(df[data.Survived == 1])\n",
        "print(f\"Porcentaje de Sobrevivientes:{round((sobrevivieron/total)*100,2)}%\")\n",
        "print(f\"Porcentaje de Muertos:{100-38.38}%\")\n",
        "\n",
        "#TODO-7. -Mostrar por pantalla el porcentaje de personas que sobrevivieron en cada clase.\n",
        "sobrevivio = df[data.Survived == 1]\n",
        "segundaClase = df[data.Pclass == 2]\n",
        "terceraClase = df[data.Pclass == 3]\n",
        "primerClase = sum(sobrevivio.Pclass == 1)\n",
        "segundClase = sum(sobrevivio.Pclass == 2)\n",
        "tercerClase = sum(sobrevivio.Pclass == 3)\n",
        "print(f\"Porcentaje de Sobrevivientes PrimeraClase:{round((primerClase/len(primeraClase))*100,2)}%\")\n",
        "print(f\"Porcentaje de Sobrevivientes SegundaClase:{round((segundClase/len(segundaClase))*100,2)}%\")\n",
        "print(f\"Porcentaje de Sobrevivientes TerceraClase:{round((tercerClase/len(terceraClase))*100,2)}%\")\n",
        "\n",
        "#TODO-8. -Eliminar del DataFrame los pasajeros con edad desconocida.\n",
        "con_edad = df.dropna(subset = [\"Age\"])\n",
        "print(con_edad)\n",
        "\n",
        "#TODO-9. -Mostrar por pantalla la edad media de las mujeres que viajaban en cada clase.\n",
        "mujeres_1 = primeraClase[primeraClase.Sex == \"female\"]\n",
        "mujeres_2 = segundaClase[segundaClase.Sex == \"female\"]\n",
        "mujeres_3 = terceraClase[terceraClase.Sex == \"female\"]\n",
        "print(\"La edad media de primera clase:\")\n",
        "print(round(mujeres_1[\"Age\"].mean(),2))\n",
        "print(\"La edad media de segunda clase:\")\n",
        "print(round(mujeres_2[\"Age\"].mean(),2))\n",
        "print(\"La edad media de tercera clase:\")\n",
        "print(round(mujeres_3[\"Age\"].mean(),2))\n",
        "\n",
        "#TODO-10. -Añadir una nueva columna booleana para ver si el pasajero era menor de edad o no.\n",
        "df[\"Is Minor\"] = df[\"Age\"] < 18\n",
        "print(df[[\"Age\", \"Is Minor\"]])\n",
        "\n",
        "#TODO-11.-Mostrar por pantalla el porcentaje de menores y mayores de edad que sobrevivieron en cada clase.\n",
        "menores_primera = df[(df.Pclass == 1) & (df.Age < 18) & (df.Survived == 1)]\n",
        "mayores_primera = df[(df.Pclass == 1) & (df.Age >= 18) & (df.Survived == 1)]\n",
        "total_menores_primera = df[(df.Pclass == 1) & (df.Age < 18)]\n",
        "total_mayores_primera = df[(df.Pclass == 1) & (df.Age >= 18)]\n",
        "menores_segunda = df[(df.Pclass == 2) & (df.Age < 18) & (df.Survived == 1)]\n",
        "mayores_segunda = df[(df.Pclass == 2) & (df.Age >= 18) & (df.Survived == 1)]\n",
        "total_menores_segunda = df[(df.Pclass == 2) & (df.Age < 18)]\n",
        "total_mayores_segunda = df[(df.Pclass == 2) & (df.Age >= 18)]\n",
        "menores_tercera = df[(df.Pclass == 3) & (df.Age < 18) & (df.Survived == 1)]\n",
        "total_menores_tercera = df[(df.Pclass == 3) & (df.Age < 18)]\n",
        "mayores_tercera = df[(df.Pclass == 3) & (df.Age >= 18) & (df.Survived == 1)]\n",
        "total_mayores_tercera = df[(df.Pclass == 3) & (df.Age >= 18)]\n",
        "print(f\"Porcentaje de menores sobrevivientes clase1: {round((len(menores_primera)/len(total_menores_primera))*100,2)}\")\n",
        "print(f\"Porcentaje de menores sobrevivientes clase2: {round((len(menores_segunda)/len(total_menores_segunda))*100,2)}\")\n",
        "print(f\"Porcentaje de menores sobrevivientes clase3: {round((len(menores_tercera)/len(total_menores_tercera))*100,2)}\")\n",
        "print(f\"Porcentaje de mayores sobrevivientes clase1: {round((len(mayores_primera)/len(total_mayores_primera))*100,2)}\")\n",
        "print(f\"Porcentaje de mayores sobrevivientes clase2: {round((len(mayores_segunda)/len(total_mayores_segunda))*100,2)}\")\n",
        "print(f\"Porcentaje de mayores sobrevivientes clase3: {round((len(mayores_tercera)/len(total_mayores_tercera))*100,2)}\")\n"
      ],
      "metadata": {
        "colab": {
          "base_uri": "https://localhost:8080/"
        },
        "id": "EWsBTseajMgi",
        "outputId": "0976da5e-a23d-400a-8f56-efe7e88d4077"
      },
      "execution_count": 84,
      "outputs": [
        {
          "output_type": "stream",
          "name": "stdout",
          "text": [
            "Dimensiones: (891, 12)\n",
            "Numero de datos: 10692\n",
            "Columnas: ['PassengerId', 'Survived', 'Pclass', 'Name', 'Sex', 'Age', 'SibSp', 'Parch', 'Ticket', 'Fare', 'Cabin', 'Embarked']\n",
            "Índices: [0, 1, 2, 3, 4, 5, 6, 7, 8, 9, 10, 11, 12, 13, 14, 15, 16, 17, 18, 19, 20, 21, 22, 23, 24, 25, 26, 27, 28, 29, 30, 31, 32, 33, 34, 35, 36, 37, 38, 39, 40, 41, 42, 43, 44, 45, 46, 47, 48, 49, 50, 51, 52, 53, 54, 55, 56, 57, 58, 59, 60, 61, 62, 63, 64, 65, 66, 67, 68, 69, 70, 71, 72, 73, 74, 75, 76, 77, 78, 79, 80, 81, 82, 83, 84, 85, 86, 87, 88, 89, 90, 91, 92, 93, 94, 95, 96, 97, 98, 99, 100, 101, 102, 103, 104, 105, 106, 107, 108, 109, 110, 111, 112, 113, 114, 115, 116, 117, 118, 119, 120, 121, 122, 123, 124, 125, 126, 127, 128, 129, 130, 131, 132, 133, 134, 135, 136, 137, 138, 139, 140, 141, 142, 143, 144, 145, 146, 147, 148, 149, 150, 151, 152, 153, 154, 155, 156, 157, 158, 159, 160, 161, 162, 163, 164, 165, 166, 167, 168, 169, 170, 171, 172, 173, 174, 175, 176, 177, 178, 179, 180, 181, 182, 183, 184, 185, 186, 187, 188, 189, 190, 191, 192, 193, 194, 195, 196, 197, 198, 199, 200, 201, 202, 203, 204, 205, 206, 207, 208, 209, 210, 211, 212, 213, 214, 215, 216, 217, 218, 219, 220, 221, 222, 223, 224, 225, 226, 227, 228, 229, 230, 231, 232, 233, 234, 235, 236, 237, 238, 239, 240, 241, 242, 243, 244, 245, 246, 247, 248, 249, 250, 251, 252, 253, 254, 255, 256, 257, 258, 259, 260, 261, 262, 263, 264, 265, 266, 267, 268, 269, 270, 271, 272, 273, 274, 275, 276, 277, 278, 279, 280, 281, 282, 283, 284, 285, 286, 287, 288, 289, 290, 291, 292, 293, 294, 295, 296, 297, 298, 299, 300, 301, 302, 303, 304, 305, 306, 307, 308, 309, 310, 311, 312, 313, 314, 315, 316, 317, 318, 319, 320, 321, 322, 323, 324, 325, 326, 327, 328, 329, 330, 331, 332, 333, 334, 335, 336, 337, 338, 339, 340, 341, 342, 343, 344, 345, 346, 347, 348, 349, 350, 351, 352, 353, 354, 355, 356, 357, 358, 359, 360, 361, 362, 363, 364, 365, 366, 367, 368, 369, 370, 371, 372, 373, 374, 375, 376, 377, 378, 379, 380, 381, 382, 383, 384, 385, 386, 387, 388, 389, 390, 391, 392, 393, 394, 395, 396, 397, 398, 399, 400, 401, 402, 403, 404, 405, 406, 407, 408, 409, 410, 411, 412, 413, 414, 415, 416, 417, 418, 419, 420, 421, 422, 423, 424, 425, 426, 427, 428, 429, 430, 431, 432, 433, 434, 435, 436, 437, 438, 439, 440, 441, 442, 443, 444, 445, 446, 447, 448, 449, 450, 451, 452, 453, 454, 455, 456, 457, 458, 459, 460, 461, 462, 463, 464, 465, 466, 467, 468, 469, 470, 471, 472, 473, 474, 475, 476, 477, 478, 479, 480, 481, 482, 483, 484, 485, 486, 487, 488, 489, 490, 491, 492, 493, 494, 495, 496, 497, 498, 499, 500, 501, 502, 503, 504, 505, 506, 507, 508, 509, 510, 511, 512, 513, 514, 515, 516, 517, 518, 519, 520, 521, 522, 523, 524, 525, 526, 527, 528, 529, 530, 531, 532, 533, 534, 535, 536, 537, 538, 539, 540, 541, 542, 543, 544, 545, 546, 547, 548, 549, 550, 551, 552, 553, 554, 555, 556, 557, 558, 559, 560, 561, 562, 563, 564, 565, 566, 567, 568, 569, 570, 571, 572, 573, 574, 575, 576, 577, 578, 579, 580, 581, 582, 583, 584, 585, 586, 587, 588, 589, 590, 591, 592, 593, 594, 595, 596, 597, 598, 599, 600, 601, 602, 603, 604, 605, 606, 607, 608, 609, 610, 611, 612, 613, 614, 615, 616, 617, 618, 619, 620, 621, 622, 623, 624, 625, 626, 627, 628, 629, 630, 631, 632, 633, 634, 635, 636, 637, 638, 639, 640, 641, 642, 643, 644, 645, 646, 647, 648, 649, 650, 651, 652, 653, 654, 655, 656, 657, 658, 659, 660, 661, 662, 663, 664, 665, 666, 667, 668, 669, 670, 671, 672, 673, 674, 675, 676, 677, 678, 679, 680, 681, 682, 683, 684, 685, 686, 687, 688, 689, 690, 691, 692, 693, 694, 695, 696, 697, 698, 699, 700, 701, 702, 703, 704, 705, 706, 707, 708, 709, 710, 711, 712, 713, 714, 715, 716, 717, 718, 719, 720, 721, 722, 723, 724, 725, 726, 727, 728, 729, 730, 731, 732, 733, 734, 735, 736, 737, 738, 739, 740, 741, 742, 743, 744, 745, 746, 747, 748, 749, 750, 751, 752, 753, 754, 755, 756, 757, 758, 759, 760, 761, 762, 763, 764, 765, 766, 767, 768, 769, 770, 771, 772, 773, 774, 775, 776, 777, 778, 779, 780, 781, 782, 783, 784, 785, 786, 787, 788, 789, 790, 791, 792, 793, 794, 795, 796, 797, 798, 799, 800, 801, 802, 803, 804, 805, 806, 807, 808, 809, 810, 811, 812, 813, 814, 815, 816, 817, 818, 819, 820, 821, 822, 823, 824, 825, 826, 827, 828, 829, 830, 831, 832, 833, 834, 835, 836, 837, 838, 839, 840, 841, 842, 843, 844, 845, 846, 847, 848, 849, 850, 851, 852, 853, 854, 855, 856, 857, 858, 859, 860, 861, 862, 863, 864, 865, 866, 867, 868, 869, 870, 871, 872, 873, 874, 875, 876, 877, 878, 879, 880, 881, 882, 883, 884, 885, 886, 887, 888, 889, 890]\n",
            "\n",
            "Tipos de datos:\n",
            "PassengerId      int64\n",
            "Survived         int64\n",
            "Pclass           int64\n",
            "Name            object\n",
            "Sex             object\n",
            "Age            float64\n",
            "SibSp            int64\n",
            "Parch            int64\n",
            "Ticket          object\n",
            "Fare           float64\n",
            "Cabin           object\n",
            "Embarked        object\n",
            "dtype: object\n",
            "10 primeras filas:\n",
            "   PassengerId  Survived  Pclass  \\\n",
            "0            1         0       3   \n",
            "1            2         1       1   \n",
            "2            3         1       3   \n",
            "3            4         1       1   \n",
            "4            5         0       3   \n",
            "5            6         0       3   \n",
            "6            7         0       1   \n",
            "7            8         0       3   \n",
            "8            9         1       3   \n",
            "9           10         1       2   \n",
            "\n",
            "                                                Name     Sex   Age  SibSp  \\\n",
            "0                            Braund, Mr. Owen Harris    male  22.0      1   \n",
            "1  Cumings, Mrs. John Bradley (Florence Briggs Th...  female  38.0      1   \n",
            "2                             Heikkinen, Miss. Laina  female  26.0      0   \n",
            "3       Futrelle, Mrs. Jacques Heath (Lily May Peel)  female  35.0      1   \n",
            "4                           Allen, Mr. William Henry    male  35.0      0   \n",
            "5                                   Moran, Mr. James    male   NaN      0   \n",
            "6                            McCarthy, Mr. Timothy J    male  54.0      0   \n",
            "7                     Palsson, Master. Gosta Leonard    male   2.0      3   \n",
            "8  Johnson, Mrs. Oscar W (Elisabeth Vilhelmina Berg)  female  27.0      0   \n",
            "9                Nasser, Mrs. Nicholas (Adele Achem)  female  14.0      1   \n",
            "\n",
            "   Parch            Ticket     Fare Cabin Embarked  \n",
            "0      0         A/5 21171   7.2500   NaN        S  \n",
            "1      0          PC 17599  71.2833   C85        C  \n",
            "2      0  STON/O2. 3101282   7.9250   NaN        S  \n",
            "3      0            113803  53.1000  C123        S  \n",
            "4      0            373450   8.0500   NaN        S  \n",
            "5      0            330877   8.4583   NaN        Q  \n",
            "6      0             17463  51.8625   E46        S  \n",
            "7      1            349909  21.0750   NaN        S  \n",
            "8      2            347742  11.1333   NaN        S  \n",
            "9      0            237736  30.0708   NaN        C  \n",
            "10 ultimas filas:\n",
            "     PassengerId  Survived  Pclass                                      Name  \\\n",
            "881          882         0       3                        Markun, Mr. Johann   \n",
            "882          883         0       3              Dahlberg, Miss. Gerda Ulrika   \n",
            "883          884         0       2             Banfield, Mr. Frederick James   \n",
            "884          885         0       3                    Sutehall, Mr. Henry Jr   \n",
            "885          886         0       3      Rice, Mrs. William (Margaret Norton)   \n",
            "886          887         0       2                     Montvila, Rev. Juozas   \n",
            "887          888         1       1              Graham, Miss. Margaret Edith   \n",
            "888          889         0       3  Johnston, Miss. Catherine Helen \"Carrie\"   \n",
            "889          890         1       1                     Behr, Mr. Karl Howell   \n",
            "890          891         0       3                       Dooley, Mr. Patrick   \n",
            "\n",
            "        Sex   Age  SibSp  Parch            Ticket     Fare Cabin Embarked  \n",
            "881    male  33.0      0      0            349257   7.8958   NaN        S  \n",
            "882  female  22.0      0      0              7552  10.5167   NaN        S  \n",
            "883    male  28.0      0      0  C.A./SOTON 34068  10.5000   NaN        S  \n",
            "884    male  25.0      0      0   SOTON/OQ 392076   7.0500   NaN        S  \n",
            "885  female  39.0      0      5            382652  29.1250   NaN        Q  \n",
            "886    male  27.0      0      0            211536  13.0000   NaN        S  \n",
            "887  female  19.0      0      0            112053  30.0000   B42        S  \n",
            "888  female   NaN      1      2        W./C. 6607  23.4500   NaN        S  \n",
            "889    male  26.0      0      0            111369  30.0000  C148        C  \n",
            "890    male  32.0      0      0            370376   7.7500   NaN        Q  \n",
            "     PassengerId  Survived  Pclass                              Name     Sex  \\\n",
            "147          148         0       3  Ford, Miss. Robina Maggie \"Ruby\"  female   \n",
            "\n",
            "     Age  SibSp  Parch      Ticket    Fare Cabin Embarked  \n",
            "147  9.0      2      2  W./C. 6608  34.375   NaN        S  \n",
            "     PassengerId  Survived  Pclass  \\\n",
            "0              1         0       3   \n",
            "2              3         1       3   \n",
            "4              5         0       3   \n",
            "6              7         0       1   \n",
            "8              9         1       3   \n",
            "..           ...       ...     ...   \n",
            "882          883         0       3   \n",
            "884          885         0       3   \n",
            "886          887         0       2   \n",
            "888          889         0       3   \n",
            "890          891         0       3   \n",
            "\n",
            "                                                  Name     Sex   Age  SibSp  \\\n",
            "0                              Braund, Mr. Owen Harris    male  22.0      1   \n",
            "2                               Heikkinen, Miss. Laina  female  26.0      0   \n",
            "4                             Allen, Mr. William Henry    male  35.0      0   \n",
            "6                              McCarthy, Mr. Timothy J    male  54.0      0   \n",
            "8    Johnson, Mrs. Oscar W (Elisabeth Vilhelmina Berg)  female  27.0      0   \n",
            "..                                                 ...     ...   ...    ...   \n",
            "882                       Dahlberg, Miss. Gerda Ulrika  female  22.0      0   \n",
            "884                             Sutehall, Mr. Henry Jr    male  25.0      0   \n",
            "886                              Montvila, Rev. Juozas    male  27.0      0   \n",
            "888           Johnston, Miss. Catherine Helen \"Carrie\"  female   NaN      1   \n",
            "890                                Dooley, Mr. Patrick    male  32.0      0   \n",
            "\n",
            "     Parch            Ticket     Fare Cabin Embarked  \n",
            "0        0         A/5 21171   7.2500   NaN        S  \n",
            "2        0  STON/O2. 3101282   7.9250   NaN        S  \n",
            "4        0            373450   8.0500   NaN        S  \n",
            "6        0             17463  51.8625   E46        S  \n",
            "8        2            347742  11.1333   NaN        S  \n",
            "..     ...               ...      ...   ...      ...  \n",
            "882      0              7552  10.5167   NaN        S  \n",
            "884      0   SOTON/OQ 392076   7.0500   NaN        S  \n",
            "886      0            211536  13.0000   NaN        S  \n",
            "888      2        W./C. 6607  23.4500   NaN        S  \n",
            "890      0            370376   7.7500   NaN        Q  \n",
            "\n",
            "[446 rows x 12 columns]\n",
            "730                      Allen, Miss. Elisabeth Walton\n",
            "305                     Allison, Master. Hudson Trevor\n",
            "297                       Allison, Miss. Helen Loraine\n",
            "498    Allison, Mrs. Hudson J C (Bessie Waldo Daniels)\n",
            "460                                Anderson, Mr. Harry\n",
            "                            ...                       \n",
            "155                        Williams, Mr. Charles Duane\n",
            "351             Williams-Lambert, Mr. Fletcher Fellows\n",
            "55                                   Woolner, Mr. Hugh\n",
            "555                                 Wright, Mr. George\n",
            "325                           Young, Miss. Marie Grice\n",
            "Name: Name, Length: 216, dtype: object\n",
            "Porcentaje de Sobrevivientes:38.38%\n",
            "Porcentaje de Muertos:61.62%\n",
            "Porcentaje de Sobrevivientes PrimeraClase:62.96%\n",
            "Porcentaje de Sobrevivientes SegundaClase:47.28%\n",
            "Porcentaje de Sobrevivientes TerceraClase:24.24%\n",
            "     PassengerId  Survived  Pclass  \\\n",
            "0              1         0       3   \n",
            "1              2         1       1   \n",
            "2              3         1       3   \n",
            "3              4         1       1   \n",
            "4              5         0       3   \n",
            "..           ...       ...     ...   \n",
            "885          886         0       3   \n",
            "886          887         0       2   \n",
            "887          888         1       1   \n",
            "889          890         1       1   \n",
            "890          891         0       3   \n",
            "\n",
            "                                                  Name     Sex   Age  SibSp  \\\n",
            "0                              Braund, Mr. Owen Harris    male  22.0      1   \n",
            "1    Cumings, Mrs. John Bradley (Florence Briggs Th...  female  38.0      1   \n",
            "2                               Heikkinen, Miss. Laina  female  26.0      0   \n",
            "3         Futrelle, Mrs. Jacques Heath (Lily May Peel)  female  35.0      1   \n",
            "4                             Allen, Mr. William Henry    male  35.0      0   \n",
            "..                                                 ...     ...   ...    ...   \n",
            "885               Rice, Mrs. William (Margaret Norton)  female  39.0      0   \n",
            "886                              Montvila, Rev. Juozas    male  27.0      0   \n",
            "887                       Graham, Miss. Margaret Edith  female  19.0      0   \n",
            "889                              Behr, Mr. Karl Howell    male  26.0      0   \n",
            "890                                Dooley, Mr. Patrick    male  32.0      0   \n",
            "\n",
            "     Parch            Ticket     Fare Cabin Embarked  \n",
            "0        0         A/5 21171   7.2500   NaN        S  \n",
            "1        0          PC 17599  71.2833   C85        C  \n",
            "2        0  STON/O2. 3101282   7.9250   NaN        S  \n",
            "3        0            113803  53.1000  C123        S  \n",
            "4        0            373450   8.0500   NaN        S  \n",
            "..     ...               ...      ...   ...      ...  \n",
            "885      5            382652  29.1250   NaN        Q  \n",
            "886      0            211536  13.0000   NaN        S  \n",
            "887      0            112053  30.0000   B42        S  \n",
            "889      0            111369  30.0000  C148        C  \n",
            "890      0            370376   7.7500   NaN        Q  \n",
            "\n",
            "[714 rows x 12 columns]\n",
            "La edad media de primera clase:\n",
            "34.61\n",
            "La edad media de segunda clase:\n",
            "28.72\n",
            "La edad media de tercera clase:\n",
            "21.75\n",
            "      Age  Is Minor\n",
            "0    22.0     False\n",
            "1    38.0     False\n",
            "2    26.0     False\n",
            "3    35.0     False\n",
            "4    35.0     False\n",
            "..    ...       ...\n",
            "886  27.0     False\n",
            "887  19.0     False\n",
            "888   NaN     False\n",
            "889  26.0     False\n",
            "890  32.0     False\n",
            "\n",
            "[891 rows x 2 columns]\n",
            "Porcentaje de menores sobrevivientes clase1: 91.67\n",
            "Porcentaje de menores sobrevivientes clase2: 91.3\n",
            "Porcentaje de menores sobrevivientes clase3: 37.18\n",
            "Porcentaje de mayores sobrevivientes clase1: 63.79\n",
            "Porcentaje de mayores sobrevivientes clase2: 41.33\n",
            "Porcentaje de mayores sobrevivientes clase3: 20.22\n"
          ]
        }
      ]
    },
    {
      "cell_type": "markdown",
      "source": [
        "Ejercicio 3."
      ],
      "metadata": {
        "id": "6ATpBWugjmCz"
      }
    },
    {
      "cell_type": "code",
      "source": [
        "import pandas, matplotlib.pyplot as plt\n",
        "#Ejercicio 3\n",
        "# TODO-1.-Generar un DataFrame con los datos del archivo.\n",
        "data = pandas.read_csv(\"casasboston.csv\")\n",
        "df = pandas.DataFrame(data)\n",
        "# TODO-2. Reduce el dataframe utilizando y renombrando las columnas de acuerdo a los siguiente.\n",
        "columnas_seleccionadas = [\"TOWN\",\"CRIM\",\"INDUS\",\"CHAS\",\"RM\",\"MEDV\",\"LSTAT\",\"AGE\"]\n",
        "nombres_nuevos = {\"TOWN\":\"CIUDAD\",\"CRIM\":\"INDICE_CRIMEN\",\"INDUS\":\"PCT_ZONA_INDUSTRIAL\",\"CHAS\":\"RIO_CHARLES\",\"RM\":\"N_HABITACIONES_MEDIO\",\"MEDV\":\"VALOR_MEDIANO\",\"LSTAT\":\"PCT_CLASE_BAJA\",\"AGE\":\"EDAD\"}\n",
        "df_reducido = df[columnas_seleccionadas].rename(columns=nombres_nuevos)\n",
        "print(df_reducido)\n",
        "# TODO-3. Muestra los datos descriptivos para cada columna (conteo, media, cuartiles)\n",
        "datos_descriptivos = df_reducido.describe(include=\"all\")\n",
        "print(datos_descriptivos)\n",
        "# TODO-4. Genera un histograma de número de habitaciones promedio\n",
        "numero_habitaciones = df_reducido[\"N_HABITACIONES_MEDIO\"]\n",
        "plt.hist(numero_habitaciones, bins =5, color = \"blue\")\n",
        "plt.xlabel('Numero de habitaciones promedio')\n",
        "plt.ylabel('Frecuencia')\n",
        "plt.title('Histograma de número de habitaciones promedio')\n",
        "plt.show()\n",
        "# TODO-5. Genera un diagrama de dispersión que muestre el índice de criminalidad vs la zona\n",
        "ciudades = df_reducido[\"CIUDAD\"]\n",
        "indice_crimen = df_reducido[\"INDICE_CRIMEN\"]\n",
        "plt.scatter(ciudades,indice_crimen,alpha=0.5, color = \"blue\")\n",
        "plt.xlabel('Ciudades')\n",
        "plt.ylabel('Indice Crimen')\n",
        "plt.title('Diagrama Zona vs Indice del Crimen')\n",
        "plt.show()\n",
        "# TODO-6. Realiza un gráfico de barras que muestre por ciudad el valor mediano de la propiedad\n",
        "valor_mediano = df_reducido[\"VALOR_MEDIANO\"]\n",
        "plt.bar(ciudades, valor_mediano)\n",
        "plt.xlabel('Ciudades')\n",
        "plt.ylabel('Valor Mediano de Propiedad')\n",
        "plt.title('Diagrama Ciudad vs Valor Mediano de Propiedad')\n",
        "plt.show()\n",
        "# TODO-7. Realiza un diagrama de caja para la variable de edad\n",
        "edad = df_reducido[\"EDAD\"]\n",
        "plt.boxplot(edad)\n",
        "plt.ylabel('Edad')\n",
        "plt.title('Diagrama de caja Edad')\n",
        "plt.show()\n"
      ],
      "metadata": {
        "colab": {
          "base_uri": "https://localhost:8080/",
          "height": 1000
        },
        "id": "bfMOEx65jnsi",
        "outputId": "42cbeb44-374a-4353-ce16-b14e40ba5a9e"
      },
      "execution_count": 86,
      "outputs": [
        {
          "output_type": "stream",
          "name": "stdout",
          "text": [
            "         CIUDAD  INDICE_CRIMEN  PCT_ZONA_INDUSTRIAL  RIO_CHARLES  \\\n",
            "0        Nahant        0.00632                 2.31            0   \n",
            "1    Swampscott        0.02731                 7.07            0   \n",
            "2    Swampscott        0.02729                 7.07            0   \n",
            "3    Marblehead        0.03237                 2.18            0   \n",
            "4    Marblehead        0.06905                 2.18            0   \n",
            "..          ...            ...                  ...          ...   \n",
            "501    Winthrop        0.06263                11.93            0   \n",
            "502    Winthrop        0.04527                11.93            0   \n",
            "503    Winthrop        0.06076                11.93            0   \n",
            "504    Winthrop        0.10959                11.93            0   \n",
            "505    Winthrop        0.04741                11.93            0   \n",
            "\n",
            "     N_HABITACIONES_MEDIO  VALOR_MEDIANO  PCT_CLASE_BAJA  EDAD  \n",
            "0                   6.575           24.0            4.98  65.2  \n",
            "1                   6.421           21.6            9.14  78.9  \n",
            "2                   7.185           34.7            4.03  61.1  \n",
            "3                   6.998           33.4            2.94  45.8  \n",
            "4                   7.147           36.2            5.33  54.2  \n",
            "..                    ...            ...             ...   ...  \n",
            "501                 6.593           22.4            9.67  69.1  \n",
            "502                 6.120           20.6            9.08  76.7  \n",
            "503                 6.976           23.9            5.64  91.0  \n",
            "504                 6.794           22.0            6.48  89.3  \n",
            "505                 6.030           19.0            7.88  80.8  \n",
            "\n",
            "[506 rows x 8 columns]\n",
            "           CIUDAD  INDICE_CRIMEN  PCT_ZONA_INDUSTRIAL  RIO_CHARLES  \\\n",
            "count         506     506.000000           506.000000   506.000000   \n",
            "unique         92            NaN                  NaN          NaN   \n",
            "top     Cambridge            NaN                  NaN          NaN   \n",
            "freq           30            NaN                  NaN          NaN   \n",
            "mean          NaN       3.613524            11.136779     0.069170   \n",
            "std           NaN       8.601545             6.860353     0.253994   \n",
            "min           NaN       0.006320             0.460000     0.000000   \n",
            "25%           NaN       0.082045             5.190000     0.000000   \n",
            "50%           NaN       0.256510             9.690000     0.000000   \n",
            "75%           NaN       3.677083            18.100000     0.000000   \n",
            "max           NaN      88.976200            27.740000     1.000000   \n",
            "\n",
            "        N_HABITACIONES_MEDIO  VALOR_MEDIANO  PCT_CLASE_BAJA        EDAD  \n",
            "count             506.000000     506.000000      506.000000  506.000000  \n",
            "unique                   NaN            NaN             NaN         NaN  \n",
            "top                      NaN            NaN             NaN         NaN  \n",
            "freq                     NaN            NaN             NaN         NaN  \n",
            "mean                6.284634      22.528854       12.653063   68.574901  \n",
            "std                 0.702617       9.182176        7.141062   28.148861  \n",
            "min                 3.561000       5.000000        1.730000    2.900000  \n",
            "25%                 5.885500      17.025000        6.950000   45.025000  \n",
            "50%                 6.208500      21.200000       11.360000   77.500000  \n",
            "75%                 6.623500      25.000000       16.955000   94.075000  \n",
            "max                 8.780000      50.000000       37.970000  100.000000  \n"
          ]
        },
        {
          "output_type": "display_data",
          "data": {
            "text/plain": [
              "<Figure size 640x480 with 1 Axes>"
            ],
            "image/png": "[encoded data removed]"
          },
          "metadata": {}
        },
        {
          "output_type": "display_data",
          "data": {
            "text/plain": [
              "<Figure size 640x480 with 1 Axes>"
            ],
            "image/png": "[encoded data removed]"
          },
          "metadata": {}
        },
        {
          "output_type": "display_data",
          "data": {
            "text/plain": [
              "<Figure size 640x480 with 1 Axes>"
            ],
            "image/png": "[encoded data removed]"
          },
          "metadata": {}
        },
        {
          "output_type": "display_data",
          "data": {
            "text/plain": [
              "<Figure size 640x480 with 1 Axes>"
            ],
            "image/png": "[encoded data removed]"
          },
          "metadata": {}
        }
      ]
    },
    {
      "cell_type": "markdown",
      "source": [
        "Ejercicio 4."
      ],
      "metadata": {
        "id": "NepSkXsNghji"
      }
    },
    {
      "cell_type": "code",
      "source": [
        "import numpy as np\n",
        "import pandas as pd\n",
        "import random\n",
        "pd.set_option('display.max.columns', 100)\n",
        "# to draw pictures in jupyter notebook\n",
        "%matplotlib inline\n",
        "import matplotlib.pyplot as plt\n",
        "import seaborn as sns\n",
        "data = pd.read_csv(\"adult.data.csv\")\n",
        "data.head()"
      ],
      "metadata": {
        "colab": {
          "base_uri": "https://localhost:8080/",
          "height": 348
        },
        "id": "s8-jZwdGk_iE",
        "outputId": "0954b569-3749-4a45-8a7a-2974a820a973"
      },
      "execution_count": 70,
      "outputs": [
        {
          "output_type": "execute_result",
          "data": {
            "text/plain": [
              "   age         workclass  fnlwgt  education  education-num  \\\n",
              "0   39         State-gov   77516  Bachelors             13   \n",
              "1   50  Self-emp-not-inc   83311  Bachelors             13   \n",
              "2   38           Private  215646    HS-grad              9   \n",
              "3   53           Private  234721       11th              7   \n",
              "4   28           Private  338409  Bachelors             13   \n",
              "\n",
              "       marital-status         occupation   relationship   race     sex  \\\n",
              "0       Never-married       Adm-clerical  Not-in-family  White    Male   \n",
              "1  Married-civ-spouse    Exec-managerial        Husband  White    Male   \n",
              "2            Divorced  Handlers-cleaners  Not-in-family  White    Male   \n",
              "3  Married-civ-spouse  Handlers-cleaners        Husband  Black    Male   \n",
              "4  Married-civ-spouse     Prof-specialty           Wife  Black  Female   \n",
              "\n",
              "   capital-gain  capital-loss  hours-per-week native-country salary  \n",
              "0          2174             0              40  United-States  <=50K  \n",
              "1             0             0              13  United-States  <=50K  \n",
              "2             0             0              40  United-States  <=50K  \n",
              "3             0             0              40  United-States  <=50K  \n",
              "4             0             0              40           Cuba  <=50K  "
            ],
            "text/html": [
              "\n",
              "  <div id=\"df-9e732483-ba68-4d54-8c51-157daa9bad8f\" class=\"colab-df-container\">\n",
              "    <div>\n",
              "<style scoped>\n",
              "    .dataframe tbody tr th:only-of-type {\n",
              "        vertical-align: middle;\n",
              "    }\n",
              "\n",
              "    .dataframe tbody tr th {\n",
              "        vertical-align: top;\n",
              "    }\n",
              "\n",
              "    .dataframe thead th {\n",
              "        text-align: right;\n",
              "    }\n",
              "</style>\n",
              "<table border=\"1\" class=\"dataframe\">\n",
              "  <thead>\n",
              "    <tr style=\"text-align: right;\">\n",
              "      <th></th>\n",
              "      <th>age</th>\n",
              "      <th>workclass</th>\n",
              "      <th>fnlwgt</th>\n",
              "      <th>education</th>\n",
              "      <th>education-num</th>\n",
              "      <th>marital-status</th>\n",
              "      <th>occupation</th>\n",
              "      <th>relationship</th>\n",
              "      <th>race</th>\n",
              "      <th>sex</th>\n",
              "      <th>capital-gain</th>\n",
              "      <th>capital-loss</th>\n",
              "      <th>hours-per-week</th>\n",
              "      <th>native-country</th>\n",
              "      <th>salary</th>\n",
              "    </tr>\n",
              "  </thead>\n",
              "  <tbody>\n",
              "    <tr>\n",
              "      <th>0</th>\n",
              "      <td>39</td>\n",
              "      <td>State-gov</td>\n",
              "      <td>77516</td>\n",
              "      <td>Bachelors</td>\n",
              "      <td>13</td>\n",
              "      <td>Never-married</td>\n",
              "      <td>Adm-clerical</td>\n",
              "      <td>Not-in-family</td>\n",
              "      <td>White</td>\n",
              "      <td>Male</td>\n",
              "      <td>2174</td>\n",
              "      <td>0</td>\n",
              "      <td>40</td>\n",
              "      <td>United-States</td>\n",
              "      <td>&lt;=50K</td>\n",
              "    </tr>\n",
              "    <tr>\n",
              "      <th>1</th>\n",
              "      <td>50</td>\n",
              "      <td>Self-emp-not-inc</td>\n",
              "      <td>83311</td>\n",
              "      <td>Bachelors</td>\n",
              "      <td>13</td>\n",
              "      <td>Married-civ-spouse</td>\n",
              "      <td>Exec-managerial</td>\n",
              "      <td>Husband</td>\n",
              "      <td>White</td>\n",
              "      <td>Male</td>\n",
              "      <td>0</td>\n",
              "      <td>0</td>\n",
              "      <td>13</td>\n",
              "      <td>United-States</td>\n",
              "      <td>&lt;=50K</td>\n",
              "    </tr>\n",
              "    <tr>\n",
              "      <th>2</th>\n",
              "      <td>38</td>\n",
              "      <td>Private</td>\n",
              "      <td>215646</td>\n",
              "      <td>HS-grad</td>\n",
              "      <td>9</td>\n",
              "      <td>Divorced</td>\n",
              "      <td>Handlers-cleaners</td>\n",
              "      <td>Not-in-family</td>\n",
              "      <td>White</td>\n",
              "      <td>Male</td>\n",
              "      <td>0</td>\n",
              "      <td>0</td>\n",
              "      <td>40</td>\n",
              "      <td>United-States</td>\n",
              "      <td>&lt;=50K</td>\n",
              "    </tr>\n",
              "    <tr>\n",
              "      <th>3</th>\n",
              "      <td>53</td>\n",
              "      <td>Private</td>\n",
              "      <td>234721</td>\n",
              "      <td>11th</td>\n",
              "      <td>7</td>\n",
              "      <td>Married-civ-spouse</td>\n",
              "      <td>Handlers-cleaners</td>\n",
              "      <td>Husband</td>\n",
              "      <td>Black</td>\n",
              "      <td>Male</td>\n",
              "      <td>0</td>\n",
              "      <td>0</td>\n",
              "      <td>40</td>\n",
              "      <td>United-States</td>\n",
              "      <td>&lt;=50K</td>\n",
              "    </tr>\n",
              "    <tr>\n",
              "      <th>4</th>\n",
              "      <td>28</td>\n",
              "      <td>Private</td>\n",
              "      <td>338409</td>\n",
              "      <td>Bachelors</td>\n",
              "      <td>13</td>\n",
              "      <td>Married-civ-spouse</td>\n",
              "      <td>Prof-specialty</td>\n",
              "      <td>Wife</td>\n",
              "      <td>Black</td>\n",
              "      <td>Female</td>\n",
              "      <td>0</td>\n",
              "      <td>0</td>\n",
              "      <td>40</td>\n",
              "      <td>Cuba</td>\n",
              "      <td>&lt;=50K</td>\n",
              "    </tr>\n",
              "  </tbody>\n",
              "</table>\n",
              "</div>\n",
              "    <div class=\"colab-df-buttons\">\n",
              "\n",
              "  <div class=\"colab-df-container\">\n",
              "    <button class=\"colab-df-convert\" onclick=\"convertToInteractive('df-9e732483-ba68-4d54-8c51-157daa9bad8f')\"\n",
              "            title=\"Convert this dataframe to an interactive table.\"\n",
              "            style=\"display:none;\">\n",
              "\n",
              "  <svg xmlns=\"http://www.w3.org/2000/svg\" height=\"24px\" viewBox=\"0 -960 960 960\">\n",
              "    <path d=\"M120-120v-720h720v720H120Zm60-500h600v-160H180v160Zm220 220h160v-160H400v160Zm0 220h160v-160H400v160ZM180-400h160v-160H180v160Zm440 0h160v-160H620v160ZM180-180h160v-160H180v160Zm440 0h160v-160H620v160Z\"/>\n",
              "  </svg>\n",
              "    </button>\n",
              "\n",
              "  <style>\n",
              "    .colab-df-container {\n",
              "      display:flex;\n",
              "      gap: 12px;\n",
              "    }\n",
              "\n",
              "    .colab-df-convert {\n",
              "      background-color: #E8F0FE;\n",
              "      border: none;\n",
              "      border-radius: 50%;\n",
              "      cursor: pointer;\n",
              "      display: none;\n",
              "      fill: #1967D2;\n",
              "      height: 32px;\n",
              "      padding: 0 0 0 0;\n",
              "      width: 32px;\n",
              "    }\n",
              "\n",
              "    .colab-df-convert:hover {\n",
              "      background-color: #E2EBFA;\n",
              "      box-shadow: 0px 1px 2px rgba(60, 64, 67, 0.3), 0px 1px 3px 1px rgba(60, 64, 67, 0.15);\n",
              "      fill: #174EA6;\n",
              "    }\n",
              "\n",
              "    .colab-df-buttons div {\n",
              "      margin-bottom: 4px;\n",
              "    }\n",
              "\n",
              "    [theme=dark] .colab-df-convert {\n",
              "      background-color: #3B4455;\n",
              "      fill: #D2E3FC;\n",
              "    }\n",
              "\n",
              "    [theme=dark] .colab-df-convert:hover {\n",
              "      background-color: #434B5C;\n",
              "      box-shadow: 0px 1px 3px 1px rgba(0, 0, 0, 0.15);\n",
              "      filter: drop-shadow(0px 1px 2px rgba(0, 0, 0, 0.3));\n",
              "      fill: #FFFFFF;\n",
              "    }\n",
              "  </style>\n",
              "\n",
              "    <script>\n",
              "      const buttonEl =\n",
              "        document.querySelector('#df-9e732483-ba68-4d54-8c51-157daa9bad8f button.colab-df-convert');\n",
              "      buttonEl.style.display =\n",
              "        google.colab.kernel.accessAllowed ? 'block' : 'none';\n",
              "\n",
              "      async function convertToInteractive(key) {\n",
              "        const element = document.querySelector('#df-9e732483-ba68-4d54-8c51-157daa9bad8f');\n",
              "        const dataTable =\n",
              "          await google.colab.kernel.invokeFunction('convertToInteractive',\n",
              "                                                    [key], {});\n",
              "        if (!dataTable) return;\n",
              "\n",
              "        const docLinkHtml = 'Like what you see? Visit the ' +\n",
              "          '<a target=\"_blank\" href=https://colab.research.google.com/notebooks/data_table.ipynb>data table notebook</a>'\n",
              "          + ' to learn more about interactive tables.';\n",
              "        element.innerHTML = '';\n",
              "        dataTable['output_type'] = 'display_data';\n",
              "        await google.colab.output.renderOutput(dataTable, element);\n",
              "        const docLink = document.createElement('div');\n",
              "        docLink.innerHTML = docLinkHtml;\n",
              "        element.appendChild(docLink);\n",
              "      }\n",
              "    </script>\n",
              "  </div>\n",
              "\n",
              "\n",
              "<div id=\"df-02f421af-a322-4ad7-ab37-2ca3855f9e15\">\n",
              "  <button class=\"colab-df-quickchart\" onclick=\"quickchart('df-02f421af-a322-4ad7-ab37-2ca3855f9e15')\"\n",
              "            title=\"Suggest charts\"\n",
              "            style=\"display:none;\">\n",
              "\n",
              "<svg xmlns=\"http://www.w3.org/2000/svg\" height=\"24px\"viewBox=\"0 0 24 24\"\n",
              "     width=\"24px\">\n",
              "    <g>\n",
              "        <path d=\"M19 3H5c-1.1 0-2 .9-2 2v14c0 1.1.9 2 2 2h14c1.1 0 2-.9 2-2V5c0-1.1-.9-2-2-2zM9 17H7v-7h2v7zm4 0h-2V7h2v10zm4 0h-2v-4h2v4z\"/>\n",
              "    </g>\n",
              "</svg>\n",
              "  </button>\n",
              "\n",
              "<style>\n",
              "  .colab-df-quickchart {\n",
              "      --bg-color: #E8F0FE;\n",
              "      --fill-color: #1967D2;\n",
              "      --hover-bg-color: #E2EBFA;\n",
              "      --hover-fill-color: #174EA6;\n",
              "      --disabled-fill-color: #AAA;\n",
              "      --disabled-bg-color: #DDD;\n",
              "  }\n",
              "\n",
              "  [theme=dark] .colab-df-quickchart {\n",
              "      --bg-color: #3B4455;\n",
              "      --fill-color: #D2E3FC;\n",
              "      --hover-bg-color: #434B5C;\n",
              "      --hover-fill-color: #FFFFFF;\n",
              "      --disabled-bg-color: #3B4455;\n",
              "      --disabled-fill-color: #666;\n",
              "  }\n",
              "\n",
              "  .colab-df-quickchart {\n",
              "    background-color: var(--bg-color);\n",
              "    border: none;\n",
              "    border-radius: 50%;\n",
              "    cursor: pointer;\n",
              "    display: none;\n",
              "    fill: var(--fill-color);\n",
              "    height: 32px;\n",
              "    padding: 0;\n",
              "    width: 32px;\n",
              "  }\n",
              "\n",
              "  .colab-df-quickchart:hover {\n",
              "    background-color: var(--hover-bg-color);\n",
              "    box-shadow: 0 1px 2px rgba(60, 64, 67, 0.3), 0 1px 3px 1px rgba(60, 64, 67, 0.15);\n",
              "    fill: var(--button-hover-fill-color);\n",
              "  }\n",
              "\n",
              "  .colab-df-quickchart-complete:disabled,\n",
              "  .colab-df-quickchart-complete:disabled:hover {\n",
              "    background-color: var(--disabled-bg-color);\n",
              "    fill: var(--disabled-fill-color);\n",
              "    box-shadow: none;\n",
              "  }\n",
              "\n",
              "  .colab-df-spinner {\n",
              "    border: 2px solid var(--fill-color);\n",
              "    border-color: transparent;\n",
              "    border-bottom-color: var(--fill-color);\n",
              "    animation:\n",
              "      spin 1s steps(1) infinite;\n",
              "  }\n",
              "\n",
              "  @keyframes spin {\n",
              "    0% {\n",
              "      border-color: transparent;\n",
              "      border-bottom-color: var(--fill-color);\n",
              "      border-left-color: var(--fill-color);\n",
              "    }\n",
              "    20% {\n",
              "      border-color: transparent;\n",
              "      border-left-color: var(--fill-color);\n",
              "      border-top-color: var(--fill-color);\n",
              "    }\n",
              "    30% {\n",
              "      border-color: transparent;\n",
              "      border-left-color: var(--fill-color);\n",
              "      border-top-color: var(--fill-color);\n",
              "      border-right-color: var(--fill-color);\n",
              "    }\n",
              "    40% {\n",
              "      border-color: transparent;\n",
              "      border-right-color: var(--fill-color);\n",
              "      border-top-color: var(--fill-color);\n",
              "    }\n",
              "    60% {\n",
              "      border-color: transparent;\n",
              "      border-right-color: var(--fill-color);\n",
              "    }\n",
              "    80% {\n",
              "      border-color: transparent;\n",
              "      border-right-color: var(--fill-color);\n",
              "      border-bottom-color: var(--fill-color);\n",
              "    }\n",
              "    90% {\n",
              "      border-color: transparent;\n",
              "      border-bottom-color: var(--fill-color);\n",
              "    }\n",
              "  }\n",
              "</style>\n",
              "\n",
              "  <script>\n",
              "    async function quickchart(key) {\n",
              "      const quickchartButtonEl =\n",
              "        document.querySelector('#' + key + ' button');\n",
              "      quickchartButtonEl.disabled = true;  // To prevent multiple clicks.\n",
              "      quickchartButtonEl.classList.add('colab-df-spinner');\n",
              "      try {\n",
              "        const charts = await google.colab.kernel.invokeFunction(\n",
              "            'suggestCharts', [key], {});\n",
              "      } catch (error) {\n",
              "        console.error('Error during call to suggestCharts:', error);\n",
              "      }\n",
              "      quickchartButtonEl.classList.remove('colab-df-spinner');\n",
              "      quickchartButtonEl.classList.add('colab-df-quickchart-complete');\n",
              "    }\n",
              "    (() => {\n",
              "      let quickchartButtonEl =\n",
              "        document.querySelector('#df-02f421af-a322-4ad7-ab37-2ca3855f9e15 button');\n",
              "      quickchartButtonEl.style.display =\n",
              "        google.colab.kernel.accessAllowed ? 'block' : 'none';\n",
              "    })();\n",
              "  </script>\n",
              "</div>\n",
              "\n",
              "    </div>\n",
              "  </div>\n"
            ],
            "application/vnd.google.colaboratory.intrinsic+json": {
              "type": "dataframe",
              "variable_name": "data",
              "summary": "{\n  \"name\": \"data\",\n  \"rows\": 32561,\n  \"fields\": [\n    {\n      \"column\": \"age\",\n      \"properties\": {\n        \"dtype\": \"number\",\n        \"std\": 13,\n        \"min\": 17,\n        \"max\": 90,\n        \"num_unique_values\": 73,\n        \"samples\": [\n          28,\n          73,\n          35\n        ],\n        \"semantic_type\": \"\",\n        \"description\": \"\"\n      }\n    },\n    {\n      \"column\": \"workclass\",\n      \"properties\": {\n        \"dtype\": \"category\",\n        \"num_unique_values\": 9,\n        \"samples\": [\n          \"Without-pay\",\n          \"Self-emp-not-inc\",\n          \"?\"\n        ],\n        \"semantic_type\": \"\",\n        \"description\": \"\"\n      }\n    },\n    {\n      \"column\": \"fnlwgt\",\n      \"properties\": {\n        \"dtype\": \"number\",\n        \"std\": 105549,\n        \"min\": 12285,\n        \"max\": 1484705,\n        \"num_unique_values\": 21648,\n        \"samples\": [\n          128485,\n          469907,\n          235951\n        ],\n        \"semantic_type\": \"\",\n        \"description\": \"\"\n      }\n    },\n    {\n      \"column\": \"education\",\n      \"properties\": {\n        \"dtype\": \"category\",\n        \"num_unique_values\": 16,\n        \"samples\": [\n          \"Bachelors\",\n          \"HS-grad\",\n          \"Some-college\"\n        ],\n        \"semantic_type\": \"\",\n        \"description\": \"\"\n      }\n    },\n    {\n      \"column\": \"education-num\",\n      \"properties\": {\n        \"dtype\": \"number\",\n        \"std\": 2,\n        \"min\": 1,\n        \"max\": 16,\n        \"num_unique_values\": 16,\n        \"samples\": [\n          13,\n          9,\n          10\n        ],\n        \"semantic_type\": \"\",\n        \"description\": \"\"\n      }\n    },\n    {\n      \"column\": \"marital-status\",\n      \"properties\": {\n        \"dtype\": \"category\",\n        \"num_unique_values\": 7,\n        \"samples\": [\n          \"Never-married\",\n          \"Married-civ-spouse\",\n          \"Married-AF-spouse\"\n        ],\n        \"semantic_type\": \"\",\n        \"description\": \"\"\n      }\n    },\n    {\n      \"column\": \"occupation\",\n      \"properties\": {\n        \"dtype\": \"category\",\n        \"num_unique_values\": 15,\n        \"samples\": [\n          \"Machine-op-inspct\",\n          \"?\",\n          \"Adm-clerical\"\n        ],\n        \"semantic_type\": \"\",\n        \"description\": \"\"\n      }\n    },\n    {\n      \"column\": \"relationship\",\n      \"properties\": {\n        \"dtype\": \"category\",\n        \"num_unique_values\": 6,\n        \"samples\": [\n          \"Not-in-family\",\n          \"Husband\",\n          \"Other-relative\"\n        ],\n        \"semantic_type\": \"\",\n        \"description\": \"\"\n      }\n    },\n    {\n      \"column\": \"race\",\n      \"properties\": {\n        \"dtype\": \"category\",\n        \"num_unique_values\": 5,\n        \"samples\": [\n          \"Black\",\n          \"Other\",\n          \"Asian-Pac-Islander\"\n        ],\n        \"semantic_type\": \"\",\n        \"description\": \"\"\n      }\n    },\n    {\n      \"column\": \"sex\",\n      \"properties\": {\n        \"dtype\": \"category\",\n        \"num_unique_values\": 2,\n        \"samples\": [\n          \"Female\",\n          \"Male\"\n        ],\n        \"semantic_type\": \"\",\n        \"description\": \"\"\n      }\n    },\n    {\n      \"column\": \"capital-gain\",\n      \"properties\": {\n        \"dtype\": \"number\",\n        \"std\": 7385,\n        \"min\": 0,\n        \"max\": 99999,\n        \"num_unique_values\": 119,\n        \"samples\": [\n          3781,\n          15831\n        ],\n        \"semantic_type\": \"\",\n        \"description\": \"\"\n      }\n    },\n    {\n      \"column\": \"capital-loss\",\n      \"properties\": {\n        \"dtype\": \"number\",\n        \"std\": 402,\n        \"min\": 0,\n        \"max\": 4356,\n        \"num_unique_values\": 92,\n        \"samples\": [\n          419,\n          2051\n        ],\n        \"semantic_type\": \"\",\n        \"description\": \"\"\n      }\n    },\n    {\n      \"column\": \"hours-per-week\",\n      \"properties\": {\n        \"dtype\": \"number\",\n        \"std\": 12,\n        \"min\": 1,\n        \"max\": 99,\n        \"num_unique_values\": 94,\n        \"samples\": [\n          6,\n          22\n        ],\n        \"semantic_type\": \"\",\n        \"description\": \"\"\n      }\n    },\n    {\n      \"column\": \"native-country\",\n      \"properties\": {\n        \"dtype\": \"category\",\n        \"num_unique_values\": 42,\n        \"samples\": [\n          \"El-Salvador\",\n          \"Philippines\"\n        ],\n        \"semantic_type\": \"\",\n        \"description\": \"\"\n      }\n    },\n    {\n      \"column\": \"salary\",\n      \"properties\": {\n        \"dtype\": \"category\",\n        \"num_unique_values\": 2,\n        \"samples\": [\n          \">50K\",\n          \"<=50K\"\n        ],\n        \"semantic_type\": \"\",\n        \"description\": \"\"\n      }\n    }\n  ]\n}"
            }
          },
          "metadata": {},
          "execution_count": 70
        }
      ]
    },
    {
      "cell_type": "markdown",
      "source": [
        "1. How many men and women (sex feature) are represented in this dataset?"
      ],
      "metadata": {
        "id": "i_JYj6Tylt9q"
      }
    },
    {
      "cell_type": "code",
      "source": [
        "df = pd.DataFrame(data)\n",
        "hombres = sum(df.sex == \"Male\")\n",
        "mujeres = sum(df.sex == \"Female\")\n",
        "print(f\"There are: {hombres} men and {mujeres} women\")"
      ],
      "metadata": {
        "colab": {
          "base_uri": "https://localhost:8080/"
        },
        "id": "lRsAW9Mrl6AO",
        "outputId": "3f8b1df5-0a5f-49b8-81c9-4d0c20daace0"
      },
      "execution_count": null,
      "outputs": [
        {
          "output_type": "stream",
          "name": "stdout",
          "text": [
            "There are: 21790 men and 10771 women\n"
          ]
        }
      ]
    },
    {
      "cell_type": "markdown",
      "source": [
        "2. What is the average age (age feature) of women?"
      ],
      "metadata": {
        "id": "D2l5eT2EmkWJ"
      }
    },
    {
      "cell_type": "code",
      "source": [
        "mujeres = df[df.sex == \"Female\"]\n",
        "mujeres_edad = mujeres[\"age\"]\n",
        "promedio_edad_mujeres = round(np.mean(mujeres_edad),2)\n",
        "print(f\"The average age of women is: {promedio_edad_mujeres}\")"
      ],
      "metadata": {
        "colab": {
          "base_uri": "https://localhost:8080/"
        },
        "id": "rtVo4esvmxlH",
        "outputId": "57603be2-2d2f-41dc-d5b2-dcf2cfb81c55"
      },
      "execution_count": null,
      "outputs": [
        {
          "output_type": "stream",
          "name": "stdout",
          "text": [
            "The average age of women is: 36.86\n"
          ]
        }
      ]
    },
    {
      "cell_type": "markdown",
      "source": [
        "3. What is the percentage of German citizens (*native-country* feature)?\n"
      ],
      "metadata": {
        "id": "yCM2IBQRnoWF"
      }
    },
    {
      "cell_type": "code",
      "source": [
        "alemanes = sum(df['native-country'] == \"Germany\")\n",
        "porcentaje_alemanes = round((alemanes/len(df))*100,2)\n",
        "print(f\"El porcentaje de Alemanes es: {porcentaje_alemanes} %\")"
      ],
      "metadata": {
        "colab": {
          "base_uri": "https://localhost:8080/"
        },
        "id": "gRlJt75anwKL",
        "outputId": "1b11cb64-c950-479f-ec6d-0de1d93e330d"
      },
      "execution_count": null,
      "outputs": [
        {
          "output_type": "stream",
          "name": "stdout",
          "text": [
            "El porcentaje de Alemanes es: 0.42 %\n"
          ]
        }
      ]
    },
    {
      "cell_type": "markdown",
      "source": [
        "4-5. What are the mean and standard deviation of age for those who earn more than 50K per year (salary feature) and those who earn less than 50K per year?"
      ],
      "metadata": {
        "id": "6e_1v9ytRbGi"
      }
    },
    {
      "cell_type": "code",
      "source": [
        "salary_mas50k = df[df.salary == \">50K\"]\n",
        "salary_menos50k = df[df.salary == \"<=50K\"]\n",
        "meanage_mas50k = round(np.mean(salary_mas50k.age),2)\n",
        "meanage_menos50k = round(np.mean(salary_menos50k.age),2)\n",
        "sdage_mas50k = round(np.std(salary_mas50k.age),2)\n",
        "sdage_menos50k = round(np.std(salary_menos50k.age),2)\n",
        "print(f\"La media de edad de los que ganan mas de 50k por año es: {meanage_mas50k} y la desviación estandar es: {sdage_mas50k}\")\n",
        "print(f\"La media de edad de los que ganan menos de 50k por año es: {meanage_menos50k} y la desviación estandar es: {sdage_menos50k}\")"
      ],
      "metadata": {
        "colab": {
          "base_uri": "https://localhost:8080/"
        },
        "id": "Z--XVxJ4RnjZ",
        "outputId": "e96da151-f5c7-4de6-f544-969756a16226"
      },
      "execution_count": null,
      "outputs": [
        {
          "output_type": "stream",
          "name": "stdout",
          "text": [
            "La media de edad de los que ganan mas de 50k por año es: 44.25 y la desviación estandar es: 10.52\n",
            "La media de edad de los que ganan menos de 50k por año es: 36.78 y la desviación estandar es: 14.02\n"
          ]
        }
      ]
    },
    {
      "cell_type": "markdown",
      "source": [
        "6. Is it true that people who earn more than 50K have at least high school education? (education – Bachelors, Prof-school, Assoc-acdm, Assoc-voc, Masters or Doctorate feature)"
      ],
      "metadata": {
        "id": "t2Js_Be-WT3M"
      }
    },
    {
      "cell_type": "code",
      "source": [
        "\n",
        "\n",
        "high_education = [\"Bachelors\", \"Prof-school\", \"Assoc-acdm\", \"Assoc-voc\", \"Masters\", \"Doctorate\"]\n",
        "high_education_count = df[df[\"salary\"] == \">50K\"][\"education\"].isin(high_education).sum()\n",
        "total_high_earners = len(df[df[\"salary\"] == \">50K\"])\n",
        "\n",
        "print(f\"Numero de personas que ganan mas de 50k con alta educación: {high_education_count}\")\n",
        "print(f\"Numero total de personas que ganan mas de 50k: {total_high_earners}\")\n",
        "\n",
        "if high_education_count == total_high_earners:\n",
        "    print(\"Si es verdad.\")\n",
        "else:\n",
        "    print(\"No es verdad.\")\n"
      ],
      "metadata": {
        "colab": {
          "base_uri": "https://localhost:8080/"
        },
        "id": "4WqCfzpiW-5l",
        "outputId": "bee8ee87-6186-46bd-8fe6-a30c06d76d28"
      },
      "execution_count": null,
      "outputs": [
        {
          "output_type": "stream",
          "name": "stdout",
          "text": [
            "Numero de personas que ganan mas de 50k con alta educación: 4535\n",
            "Numero total de personas que ganan mas de 50k: 7841\n",
            "No es verdad.\n"
          ]
        }
      ]
    },
    {
      "cell_type": "markdown",
      "source": [
        "7. Display age statistics for each race (*race* feature) and each gender (*sex* feature). Use *groupby()* and *describe()*. Find the maximum age of men of *Amer-Indian-Eskimo* race.\n"
      ],
      "metadata": {
        "id": "0Qty5_lgYi1S"
      }
    },
    {
      "cell_type": "code",
      "source": [
        "\n",
        "estadisticas_edad = data.groupby([\"race\", \"sex\"])[\"age\"].describe()\n",
        "print(estadisticas_edad)\n",
        "\n",
        "max_edad_indian_eskimo = data[(data[\"race\"] == \"Amer-Indian-Eskimo\") & (data[\"sex\"] == \"Male\")][\"age\"].max()\n",
        "print(f\"\\nLa edad maxima de IndioAmericanos Eskimos es: {max_edad_indian_eskimo}\")\n"
      ],
      "metadata": {
        "colab": {
          "base_uri": "https://localhost:8080/"
        },
        "id": "8S3cmWrrYk2q",
        "outputId": "3c4be9f7-b5bb-45fc-9acc-6a9a6c87a610"
      },
      "execution_count": null,
      "outputs": [
        {
          "output_type": "stream",
          "name": "stdout",
          "text": [
            "                             count       mean        std   min   25%   50%  \\\n",
            "race               sex                                                       \n",
            "Amer-Indian-Eskimo Female    119.0  37.117647  13.114991  17.0  27.0  36.0   \n",
            "                   Male      192.0  37.208333  12.049563  17.0  28.0  35.0   \n",
            "Asian-Pac-Islander Female    346.0  35.089595  12.300845  17.0  25.0  33.0   \n",
            "                   Male      693.0  39.073593  12.883944  18.0  29.0  37.0   \n",
            "Black              Female   1555.0  37.854019  12.637197  17.0  28.0  37.0   \n",
            "                   Male     1569.0  37.682600  12.882612  17.0  27.0  36.0   \n",
            "Other              Female    109.0  31.678899  11.631599  17.0  23.0  29.0   \n",
            "                   Male      162.0  34.654321  11.355531  17.0  26.0  32.0   \n",
            "White              Female   8642.0  36.811618  14.329093  17.0  25.0  35.0   \n",
            "                   Male    19174.0  39.652498  13.436029  17.0  29.0  38.0   \n",
            "\n",
            "                             75%   max  \n",
            "race               sex                  \n",
            "Amer-Indian-Eskimo Female  46.00  80.0  \n",
            "                   Male    45.00  82.0  \n",
            "Asian-Pac-Islander Female  43.75  75.0  \n",
            "                   Male    46.00  90.0  \n",
            "Black              Female  46.00  90.0  \n",
            "                   Male    46.00  90.0  \n",
            "Other              Female  39.00  74.0  \n",
            "                   Male    42.00  77.0  \n",
            "White              Female  46.00  90.0  \n",
            "                   Male    49.00  90.0  \n",
            "\n",
            "La edad maxima de IndioAmericanos Eskimos es: 82\n"
          ]
        }
      ]
    },
    {
      "cell_type": "markdown",
      "source": [
        "8. What is the maximum number of hours a person works per week (hours-per-week feature)? How many people work such a number of hours, and what is the percentage of those who earn a lot (>50K) among them?"
      ],
      "metadata": {
        "id": "uQ7-wDd9ZS2w"
      }
    },
    {
      "cell_type": "code",
      "source": [
        "max_horas = df[\"hours-per-week\"].max()\n",
        "print(f\"El numero máximo de horas trabajadas por semana es: {max_horas}\")\n",
        "\n",
        "personas_max_horas = len(df[df[\"hours-per-week\"] == max_horas])\n",
        "print(f\"Número de personas que trabajan el máximo de horas: {personas_max_horas}\")\n",
        "\n",
        "max_horas50k = df[(df[\"hours-per-week\"] == max_horas) & (df[\"salary\"] == '>50K')]\n",
        "porcentaje_maxhoras50k = round((len(max_horas50k) / personas_max_horas) * 100, 2)\n",
        "print(f\"Porcentaje de personas que trabajan el máximo de horas y ganan más de 50k: {porcentaje_maxhoras50k}%\")\n"
      ],
      "metadata": {
        "colab": {
          "base_uri": "https://localhost:8080/"
        },
        "id": "aW-rWmuxZYmm",
        "outputId": "4855333f-3de4-4d62-fea8-9e8330b61558"
      },
      "execution_count": null,
      "outputs": [
        {
          "output_type": "stream",
          "name": "stdout",
          "text": [
            "El numero máximo de horas trabajadas por semana es: 99\n",
            "Número de personas que trabajan el máximo de horas: 85\n",
            "Porcentaje de personas que trabajan el máximo de horas y ganan más de 50k: 29.41%\n"
          ]
        }
      ]
    },
    {
      "cell_type": "markdown",
      "source": [
        "9. Find the average time of work (hours-per-week) for those who earn a little and a lot (salary) for each country (native-country). What will these be for Japan?"
      ],
      "metadata": {
        "id": "Ok15yt4CawE2"
      }
    },
    {
      "cell_type": "code",
      "source": [
        "horas_promedio = data.groupby([\"native-country\", \"salary\"])[\"hours-per-week\"].mean().rename(\"Horas promedio\")\n",
        "print(horas_promedio)\n",
        "\n",
        "horas_promedio_Japon_50kmenos = horas_promedio.loc[(\"Japan\", \"<=50K\")]\n",
        "horas_promedio_Japon_50kmas = horas_promedio.loc[(\"Japan\", \">50K\")]\n",
        "print(f\"\\nHoras promedio de trabajo en Japón para los que ganan menos de 50k: {horas_promedio_Japon_50kmenos}\")\n",
        "print(f\"Horas promedio de trabajo en Japón para los que ganan mas de 50k: {horas_promedio_Japon_50kmas}\")\n"
      ],
      "metadata": {
        "colab": {
          "base_uri": "https://localhost:8080/"
        },
        "id": "iJtFjJbDawkB",
        "outputId": "98a4af04-9623-4583-d5da-ae529dd82690"
      },
      "execution_count": null,
      "outputs": [
        {
          "output_type": "stream",
          "name": "stdout",
          "text": [
            "native-country  salary\n",
            "?               <=50K     40.164760\n",
            "                >50K      45.547945\n",
            "Cambodia        <=50K     41.416667\n",
            "                >50K      40.000000\n",
            "Canada          <=50K     37.914634\n",
            "                            ...    \n",
            "United-States   >50K      45.505369\n",
            "Vietnam         <=50K     37.193548\n",
            "                >50K      39.200000\n",
            "Yugoslavia      <=50K     41.600000\n",
            "                >50K      49.500000\n",
            "Name: Horas promedio, Length: 82, dtype: float64\n",
            "\n",
            "Horas promedio de trabajo en Japón para los que ganan menos de 50k: 41.0\n",
            "Horas promedio de trabajo en Japón para los que ganan mas de 50k: 47.958333333333336\n"
          ]
        }
      ]
    },
    {
      "cell_type": "markdown",
      "source": [
        "10. Create 2 visualizations (what to plot is up to you) and write the conclusions generated with those plots from the dataset__\n"
      ],
      "metadata": {
        "id": "v5M7S4D7b3XQ"
      }
    },
    {
      "cell_type": "code",
      "source": [
        "sns.histplot(data=df, x=\"age\", hue=\"salary\")\n",
        "plt.title(\"Distribución de Edad por salario\")\n",
        "plt.xlabel(\"Edad\")\n",
        "plt.ylabel(\"Frecuencia\")\n",
        "plt.show()\n",
        "# Conclusión: Las personas que ganan mas de 50k tienden a tener edades más avanzadas.\n",
        "\n",
        "\n",
        "sns.boxplot(data=df,x=\"salary\", y=\"hours-per-week\")\n",
        "plt.title(\"Salario vs Horas Trabajadas por Semana\")\n",
        "plt.xlabel(\"Salario\")\n",
        "plt.ylabel(\"Horas de Trabajo por Semana\")\n",
        "plt.show()\n",
        "# Conclusión: Las personas que ganan mas de 50k tienden a trabajar mas horas por semana. Hay personas que a pesar de trabajar mucho, no estan recibiendo salarios altos.\n"
      ],
      "metadata": {
        "colab": {
          "base_uri": "https://localhost:8080/",
          "height": 927
        },
        "id": "HgdBUsfob5nw",
        "outputId": "a2c2452a-7b0a-48cb-a5a5-0627fe6ccee9"
      },
      "execution_count": null,
      "outputs": [
        {
          "output_type": "display_data",
          "data": {
            "text/plain": [
              "<Figure size 640x480 with 1 Axes>"
            ],
            "image/png": "[encoded data removed]"
          },
          "metadata": {}
        },
        {
          "output_type": "display_data",
          "data": {
            "text/plain": [
              "<Figure size 640x480 with 1 Axes>"
            ],
            "image/png": "[encoded data removed]"
          },
          "metadata": {}
        }
      ]
    },
    {
      "cell_type": "markdown",
      "source": [
        "Ejercicio 5. Lab 1A"
      ],
      "metadata": {
        "id": "nh1PF9TZgpDS"
      }
    },
    {
      "cell_type": "code",
      "source": [
        "import numpy as np\n",
        "import pandas as pd\n",
        "data = pd.read_csv(\"customers_data.csv\")\n",
        "df = pd.DataFrame(data)\n",
        "df.head()"
      ],
      "metadata": {
        "colab": {
          "base_uri": "https://localhost:8080/",
          "height": 276
        },
        "id": "aZxgi27MCYQX",
        "outputId": "bd2f00a4-7e02-44dd-a5a0-9315cc271e8b"
      },
      "execution_count": 40,
      "outputs": [
        {
          "output_type": "execute_result",
          "data": {
            "text/plain": [
              "   Customer Number     Customer Name         2016          2017  \\\n",
              "0          10002.0  Quest Industries  $125,000.00    $162500.00   \n",
              "1         552278.0    Smith Plumbing  $920,000.00  $101,2000.00   \n",
              "2          23477.0   ACME Industrial   $50,000.00     $62500.00   \n",
              "3          24900.0        Brekke LTD  $350,000.00    $490000.00   \n",
              "4         651029.0         Harbor Co   $15,000.00     $12750.00   \n",
              "\n",
              "  Percent Growth Jan Units  Month  Day  Year Active  \n",
              "0         30.00%       500      1   10  2015      Y  \n",
              "1         10.00%       700      6   15  2014      Y  \n",
              "2         25.00%       125      3   29  2016      Y  \n",
              "3          4.00%        75     10   27  2015      Y  \n",
              "4        -15.00%    Closed      2    2  2014      N  "
            ],
            "text/html": [
              "\n",
              "  <div id=\"df-464709bd-6e76-4e29-978f-2c0241ad0b67\" class=\"colab-df-container\">\n",
              "    <div>\n",
              "<style scoped>\n",
              "    .dataframe tbody tr th:only-of-type {\n",
              "        vertical-align: middle;\n",
              "    }\n",
              "\n",
              "    .dataframe tbody tr th {\n",
              "        vertical-align: top;\n",
              "    }\n",
              "\n",
              "    .dataframe thead th {\n",
              "        text-align: right;\n",
              "    }\n",
              "</style>\n",
              "<table border=\"1\" class=\"dataframe\">\n",
              "  <thead>\n",
              "    <tr style=\"text-align: right;\">\n",
              "      <th></th>\n",
              "      <th>Customer Number</th>\n",
              "      <th>Customer Name</th>\n",
              "      <th>2016</th>\n",
              "      <th>2017</th>\n",
              "      <th>Percent Growth</th>\n",
              "      <th>Jan Units</th>\n",
              "      <th>Month</th>\n",
              "      <th>Day</th>\n",
              "      <th>Year</th>\n",
              "      <th>Active</th>\n",
              "    </tr>\n",
              "  </thead>\n",
              "  <tbody>\n",
              "    <tr>\n",
              "      <th>0</th>\n",
              "      <td>10002.0</td>\n",
              "      <td>Quest Industries</td>\n",
              "      <td>$125,000.00</td>\n",
              "      <td>$162500.00</td>\n",
              "      <td>30.00%</td>\n",
              "      <td>500</td>\n",
              "      <td>1</td>\n",
              "      <td>10</td>\n",
              "      <td>2015</td>\n",
              "      <td>Y</td>\n",
              "    </tr>\n",
              "    <tr>\n",
              "      <th>1</th>\n",
              "      <td>552278.0</td>\n",
              "      <td>Smith Plumbing</td>\n",
              "      <td>$920,000.00</td>\n",
              "      <td>$101,2000.00</td>\n",
              "      <td>10.00%</td>\n",
              "      <td>700</td>\n",
              "      <td>6</td>\n",
              "      <td>15</td>\n",
              "      <td>2014</td>\n",
              "      <td>Y</td>\n",
              "    </tr>\n",
              "    <tr>\n",
              "      <th>2</th>\n",
              "      <td>23477.0</td>\n",
              "      <td>ACME Industrial</td>\n",
              "      <td>$50,000.00</td>\n",
              "      <td>$62500.00</td>\n",
              "      <td>25.00%</td>\n",
              "      <td>125</td>\n",
              "      <td>3</td>\n",
              "      <td>29</td>\n",
              "      <td>2016</td>\n",
              "      <td>Y</td>\n",
              "    </tr>\n",
              "    <tr>\n",
              "      <th>3</th>\n",
              "      <td>24900.0</td>\n",
              "      <td>Brekke LTD</td>\n",
              "      <td>$350,000.00</td>\n",
              "      <td>$490000.00</td>\n",
              "      <td>4.00%</td>\n",
              "      <td>75</td>\n",
              "      <td>10</td>\n",
              "      <td>27</td>\n",
              "      <td>2015</td>\n",
              "      <td>Y</td>\n",
              "    </tr>\n",
              "    <tr>\n",
              "      <th>4</th>\n",
              "      <td>651029.0</td>\n",
              "      <td>Harbor Co</td>\n",
              "      <td>$15,000.00</td>\n",
              "      <td>$12750.00</td>\n",
              "      <td>-15.00%</td>\n",
              "      <td>Closed</td>\n",
              "      <td>2</td>\n",
              "      <td>2</td>\n",
              "      <td>2014</td>\n",
              "      <td>N</td>\n",
              "    </tr>\n",
              "  </tbody>\n",
              "</table>\n",
              "</div>\n",
              "    <div class=\"colab-df-buttons\">\n",
              "\n",
              "  <div class=\"colab-df-container\">\n",
              "    <button class=\"colab-df-convert\" onclick=\"convertToInteractive('df-464709bd-6e76-4e29-978f-2c0241ad0b67')\"\n",
              "            title=\"Convert this dataframe to an interactive table.\"\n",
              "            style=\"display:none;\">\n",
              "\n",
              "  <svg xmlns=\"http://www.w3.org/2000/svg\" height=\"24px\" viewBox=\"0 -960 960 960\">\n",
              "    <path d=\"M120-120v-720h720v720H120Zm60-500h600v-160H180v160Zm220 220h160v-160H400v160Zm0 220h160v-160H400v160ZM180-400h160v-160H180v160Zm440 0h160v-160H620v160ZM180-180h160v-160H180v160Zm440 0h160v-160H620v160Z\"/>\n",
              "  </svg>\n",
              "    </button>\n",
              "\n",
              "  <style>\n",
              "    .colab-df-container {\n",
              "      display:flex;\n",
              "      gap: 12px;\n",
              "    }\n",
              "\n",
              "    .colab-df-convert {\n",
              "      background-color: #E8F0FE;\n",
              "      border: none;\n",
              "      border-radius: 50%;\n",
              "      cursor: pointer;\n",
              "      display: none;\n",
              "      fill: #1967D2;\n",
              "      height: 32px;\n",
              "      padding: 0 0 0 0;\n",
              "      width: 32px;\n",
              "    }\n",
              "\n",
              "    .colab-df-convert:hover {\n",
              "      background-color: #E2EBFA;\n",
              "      box-shadow: 0px 1px 2px rgba(60, 64, 67, 0.3), 0px 1px 3px 1px rgba(60, 64, 67, 0.15);\n",
              "      fill: #174EA6;\n",
              "    }\n",
              "\n",
              "    .colab-df-buttons div {\n",
              "      margin-bottom: 4px;\n",
              "    }\n",
              "\n",
              "    [theme=dark] .colab-df-convert {\n",
              "      background-color: #3B4455;\n",
              "      fill: #D2E3FC;\n",
              "    }\n",
              "\n",
              "    [theme=dark] .colab-df-convert:hover {\n",
              "      background-color: #434B5C;\n",
              "      box-shadow: 0px 1px 3px 1px rgba(0, 0, 0, 0.15);\n",
              "      filter: drop-shadow(0px 1px 2px rgba(0, 0, 0, 0.3));\n",
              "      fill: #FFFFFF;\n",
              "    }\n",
              "  </style>\n",
              "\n",
              "    <script>\n",
              "      const buttonEl =\n",
              "        document.querySelector('#df-464709bd-6e76-4e29-978f-2c0241ad0b67 button.colab-df-convert');\n",
              "      buttonEl.style.display =\n",
              "        google.colab.kernel.accessAllowed ? 'block' : 'none';\n",
              "\n",
              "      async function convertToInteractive(key) {\n",
              "        const element = document.querySelector('#df-464709bd-6e76-4e29-978f-2c0241ad0b67');\n",
              "        const dataTable =\n",
              "          await google.colab.kernel.invokeFunction('convertToInteractive',\n",
              "                                                    [key], {});\n",
              "        if (!dataTable) return;\n",
              "\n",
              "        const docLinkHtml = 'Like what you see? Visit the ' +\n",
              "          '<a target=\"_blank\" href=https://colab.research.google.com/notebooks/data_table.ipynb>data table notebook</a>'\n",
              "          + ' to learn more about interactive tables.';\n",
              "        element.innerHTML = '';\n",
              "        dataTable['output_type'] = 'display_data';\n",
              "        await google.colab.output.renderOutput(dataTable, element);\n",
              "        const docLink = document.createElement('div');\n",
              "        docLink.innerHTML = docLinkHtml;\n",
              "        element.appendChild(docLink);\n",
              "      }\n",
              "    </script>\n",
              "  </div>\n",
              "\n",
              "\n",
              "<div id=\"df-8db830a1-a358-4135-abf2-4e7e2f185022\">\n",
              "  <button class=\"colab-df-quickchart\" onclick=\"quickchart('df-8db830a1-a358-4135-abf2-4e7e2f185022')\"\n",
              "            title=\"Suggest charts\"\n",
              "            style=\"display:none;\">\n",
              "\n",
              "<svg xmlns=\"http://www.w3.org/2000/svg\" height=\"24px\"viewBox=\"0 0 24 24\"\n",
              "     width=\"24px\">\n",
              "    <g>\n",
              "        <path d=\"M19 3H5c-1.1 0-2 .9-2 2v14c0 1.1.9 2 2 2h14c1.1 0 2-.9 2-2V5c0-1.1-.9-2-2-2zM9 17H7v-7h2v7zm4 0h-2V7h2v10zm4 0h-2v-4h2v4z\"/>\n",
              "    </g>\n",
              "</svg>\n",
              "  </button>\n",
              "\n",
              "<style>\n",
              "  .colab-df-quickchart {\n",
              "      --bg-color: #E8F0FE;\n",
              "      --fill-color: #1967D2;\n",
              "      --hover-bg-color: #E2EBFA;\n",
              "      --hover-fill-color: #174EA6;\n",
              "      --disabled-fill-color: #AAA;\n",
              "      --disabled-bg-color: #DDD;\n",
              "  }\n",
              "\n",
              "  [theme=dark] .colab-df-quickchart {\n",
              "      --bg-color: #3B4455;\n",
              "      --fill-color: #D2E3FC;\n",
              "      --hover-bg-color: #434B5C;\n",
              "      --hover-fill-color: #FFFFFF;\n",
              "      --disabled-bg-color: #3B4455;\n",
              "      --disabled-fill-color: #666;\n",
              "  }\n",
              "\n",
              "  .colab-df-quickchart {\n",
              "    background-color: var(--bg-color);\n",
              "    border: none;\n",
              "    border-radius: 50%;\n",
              "    cursor: pointer;\n",
              "    display: none;\n",
              "    fill: var(--fill-color);\n",
              "    height: 32px;\n",
              "    padding: 0;\n",
              "    width: 32px;\n",
              "  }\n",
              "\n",
              "  .colab-df-quickchart:hover {\n",
              "    background-color: var(--hover-bg-color);\n",
              "    box-shadow: 0 1px 2px rgba(60, 64, 67, 0.3), 0 1px 3px 1px rgba(60, 64, 67, 0.15);\n",
              "    fill: var(--button-hover-fill-color);\n",
              "  }\n",
              "\n",
              "  .colab-df-quickchart-complete:disabled,\n",
              "  .colab-df-quickchart-complete:disabled:hover {\n",
              "    background-color: var(--disabled-bg-color);\n",
              "    fill: var(--disabled-fill-color);\n",
              "    box-shadow: none;\n",
              "  }\n",
              "\n",
              "  .colab-df-spinner {\n",
              "    border: 2px solid var(--fill-color);\n",
              "    border-color: transparent;\n",
              "    border-bottom-color: var(--fill-color);\n",
              "    animation:\n",
              "      spin 1s steps(1) infinite;\n",
              "  }\n",
              "\n",
              "  @keyframes spin {\n",
              "    0% {\n",
              "      border-color: transparent;\n",
              "      border-bottom-color: var(--fill-color);\n",
              "      border-left-color: var(--fill-color);\n",
              "    }\n",
              "    20% {\n",
              "      border-color: transparent;\n",
              "      border-left-color: var(--fill-color);\n",
              "      border-top-color: var(--fill-color);\n",
              "    }\n",
              "    30% {\n",
              "      border-color: transparent;\n",
              "      border-left-color: var(--fill-color);\n",
              "      border-top-color: var(--fill-color);\n",
              "      border-right-color: var(--fill-color);\n",
              "    }\n",
              "    40% {\n",
              "      border-color: transparent;\n",
              "      border-right-color: var(--fill-color);\n",
              "      border-top-color: var(--fill-color);\n",
              "    }\n",
              "    60% {\n",
              "      border-color: transparent;\n",
              "      border-right-color: var(--fill-color);\n",
              "    }\n",
              "    80% {\n",
              "      border-color: transparent;\n",
              "      border-right-color: var(--fill-color);\n",
              "      border-bottom-color: var(--fill-color);\n",
              "    }\n",
              "    90% {\n",
              "      border-color: transparent;\n",
              "      border-bottom-color: var(--fill-color);\n",
              "    }\n",
              "  }\n",
              "</style>\n",
              "\n",
              "  <script>\n",
              "    async function quickchart(key) {\n",
              "      const quickchartButtonEl =\n",
              "        document.querySelector('#' + key + ' button');\n",
              "      quickchartButtonEl.disabled = true;  // To prevent multiple clicks.\n",
              "      quickchartButtonEl.classList.add('colab-df-spinner');\n",
              "      try {\n",
              "        const charts = await google.colab.kernel.invokeFunction(\n",
              "            'suggestCharts', [key], {});\n",
              "      } catch (error) {\n",
              "        console.error('Error during call to suggestCharts:', error);\n",
              "      }\n",
              "      quickchartButtonEl.classList.remove('colab-df-spinner');\n",
              "      quickchartButtonEl.classList.add('colab-df-quickchart-complete');\n",
              "    }\n",
              "    (() => {\n",
              "      let quickchartButtonEl =\n",
              "        document.querySelector('#df-8db830a1-a358-4135-abf2-4e7e2f185022 button');\n",
              "      quickchartButtonEl.style.display =\n",
              "        google.colab.kernel.accessAllowed ? 'block' : 'none';\n",
              "    })();\n",
              "  </script>\n",
              "</div>\n",
              "\n",
              "    </div>\n",
              "  </div>\n"
            ],
            "application/vnd.google.colaboratory.intrinsic+json": {
              "type": "dataframe",
              "variable_name": "df",
              "summary": "{\n  \"name\": \"df\",\n  \"rows\": 5,\n  \"fields\": [\n    {\n      \"column\": \"Customer Number\",\n      \"properties\": {\n        \"dtype\": \"number\",\n        \"std\": 320838.99978758814,\n        \"min\": 10002.0,\n        \"max\": 651029.0,\n        \"num_unique_values\": 5,\n        \"samples\": [\n          552278.0,\n          651029.0,\n          23477.0\n        ],\n        \"semantic_type\": \"\",\n        \"description\": \"\"\n      }\n    },\n    {\n      \"column\": \"Customer Name\",\n      \"properties\": {\n        \"dtype\": \"string\",\n        \"num_unique_values\": 5,\n        \"samples\": [\n          \"Smith Plumbing\",\n          \"Harbor Co\",\n          \"ACME Industrial\"\n        ],\n        \"semantic_type\": \"\",\n        \"description\": \"\"\n      }\n    },\n    {\n      \"column\": \"2016\",\n      \"properties\": {\n        \"dtype\": \"string\",\n        \"num_unique_values\": 5,\n        \"samples\": [\n          \"$920,000.00\",\n          \"$15,000.00\",\n          \"$50,000.00\"\n        ],\n        \"semantic_type\": \"\",\n        \"description\": \"\"\n      }\n    },\n    {\n      \"column\": \"2017\",\n      \"properties\": {\n        \"dtype\": \"string\",\n        \"num_unique_values\": 5,\n        \"samples\": [\n          \"$101,2000.00\",\n          \"$12750.00\",\n          \"$62500.00\"\n        ],\n        \"semantic_type\": \"\",\n        \"description\": \"\"\n      }\n    },\n    {\n      \"column\": \"Percent Growth\",\n      \"properties\": {\n        \"dtype\": \"string\",\n        \"num_unique_values\": 5,\n        \"samples\": [\n          \"10.00%\",\n          \"-15.00%\",\n          \"25.00%\"\n        ],\n        \"semantic_type\": \"\",\n        \"description\": \"\"\n      }\n    },\n    {\n      \"column\": \"Jan Units\",\n      \"properties\": {\n        \"dtype\": \"string\",\n        \"num_unique_values\": 5,\n        \"samples\": [\n          \"700\",\n          \"Closed\",\n          \"125\"\n        ],\n        \"semantic_type\": \"\",\n        \"description\": \"\"\n      }\n    },\n    {\n      \"column\": \"Month\",\n      \"properties\": {\n        \"dtype\": \"number\",\n        \"std\": 3,\n        \"min\": 1,\n        \"max\": 10,\n        \"num_unique_values\": 5,\n        \"samples\": [\n          6,\n          2,\n          3\n        ],\n        \"semantic_type\": \"\",\n        \"description\": \"\"\n      }\n    },\n    {\n      \"column\": \"Day\",\n      \"properties\": {\n        \"dtype\": \"number\",\n        \"std\": 11,\n        \"min\": 2,\n        \"max\": 29,\n        \"num_unique_values\": 5,\n        \"samples\": [\n          15,\n          2,\n          29\n        ],\n        \"semantic_type\": \"\",\n        \"description\": \"\"\n      }\n    },\n    {\n      \"column\": \"Year\",\n      \"properties\": {\n        \"dtype\": \"number\",\n        \"std\": 0,\n        \"min\": 2014,\n        \"max\": 2016,\n        \"num_unique_values\": 3,\n        \"samples\": [\n          2015,\n          2014,\n          2016\n        ],\n        \"semantic_type\": \"\",\n        \"description\": \"\"\n      }\n    },\n    {\n      \"column\": \"Active\",\n      \"properties\": {\n        \"dtype\": \"category\",\n        \"num_unique_values\": 2,\n        \"samples\": [\n          \"N\",\n          \"Y\"\n        ],\n        \"semantic_type\": \"\",\n        \"description\": \"\"\n      }\n    }\n  ]\n}"
            }
          },
          "metadata": {},
          "execution_count": 40
        }
      ]
    },
    {
      "cell_type": "markdown",
      "source": [
        "4.Modificar nombres de columnas."
      ],
      "metadata": {
        "id": "TfCPnqfuDcO8"
      }
    },
    {
      "cell_type": "code",
      "source": [
        "df_corregido = df.rename(columns= {\"Customer Number\": \"Customer_Number\", \"Customer Name\": \"Customer_Name\", \"Percent Growth\": \"Percent_Growth\", \"Jan Units\": \"Jan_Units\",})\n",
        "df_corregido.head()\n"
      ],
      "metadata": {
        "id": "pn2VBPa_DgD7",
        "colab": {
          "base_uri": "https://localhost:8080/",
          "height": 226
        },
        "outputId": "ea03600e-0d77-4303-f1b5-643c4e8b2de0"
      },
      "execution_count": 41,
      "outputs": [
        {
          "output_type": "execute_result",
          "data": {
            "text/plain": [
              "   Customer_Number     Customer_Name         2016          2017  \\\n",
              "0          10002.0  Quest Industries  $125,000.00    $162500.00   \n",
              "1         552278.0    Smith Plumbing  $920,000.00  $101,2000.00   \n",
              "2          23477.0   ACME Industrial   $50,000.00     $62500.00   \n",
              "3          24900.0        Brekke LTD  $350,000.00    $490000.00   \n",
              "4         651029.0         Harbor Co   $15,000.00     $12750.00   \n",
              "\n",
              "  Percent_Growth Jan_Units  Month  Day  Year Active  \n",
              "0         30.00%       500      1   10  2015      Y  \n",
              "1         10.00%       700      6   15  2014      Y  \n",
              "2         25.00%       125      3   29  2016      Y  \n",
              "3          4.00%        75     10   27  2015      Y  \n",
              "4        -15.00%    Closed      2    2  2014      N  "
            ],
            "text/html": [
              "\n",
              "  <div id=\"df-2287b728-8064-4112-bd3d-f4d125552852\" class=\"colab-df-container\">\n",
              "    <div>\n",
              "<style scoped>\n",
              "    .dataframe tbody tr th:only-of-type {\n",
              "        vertical-align: middle;\n",
              "    }\n",
              "\n",
              "    .dataframe tbody tr th {\n",
              "        vertical-align: top;\n",
              "    }\n",
              "\n",
              "    .dataframe thead th {\n",
              "        text-align: right;\n",
              "    }\n",
              "</style>\n",
              "<table border=\"1\" class=\"dataframe\">\n",
              "  <thead>\n",
              "    <tr style=\"text-align: right;\">\n",
              "      <th></th>\n",
              "      <th>Customer_Number</th>\n",
              "      <th>Customer_Name</th>\n",
              "      <th>2016</th>\n",
              "      <th>2017</th>\n",
              "      <th>Percent_Growth</th>\n",
              "      <th>Jan_Units</th>\n",
              "      <th>Month</th>\n",
              "      <th>Day</th>\n",
              "      <th>Year</th>\n",
              "      <th>Active</th>\n",
              "    </tr>\n",
              "  </thead>\n",
              "  <tbody>\n",
              "    <tr>\n",
              "      <th>0</th>\n",
              "      <td>10002.0</td>\n",
              "      <td>Quest Industries</td>\n",
              "      <td>$125,000.00</td>\n",
              "      <td>$162500.00</td>\n",
              "      <td>30.00%</td>\n",
              "      <td>500</td>\n",
              "      <td>1</td>\n",
              "      <td>10</td>\n",
              "      <td>2015</td>\n",
              "      <td>Y</td>\n",
              "    </tr>\n",
              "    <tr>\n",
              "      <th>1</th>\n",
              "      <td>552278.0</td>\n",
              "      <td>Smith Plumbing</td>\n",
              "      <td>$920,000.00</td>\n",
              "      <td>$101,2000.00</td>\n",
              "      <td>10.00%</td>\n",
              "      <td>700</td>\n",
              "      <td>6</td>\n",
              "      <td>15</td>\n",
              "      <td>2014</td>\n",
              "      <td>Y</td>\n",
              "    </tr>\n",
              "    <tr>\n",
              "      <th>2</th>\n",
              "      <td>23477.0</td>\n",
              "      <td>ACME Industrial</td>\n",
              "      <td>$50,000.00</td>\n",
              "      <td>$62500.00</td>\n",
              "      <td>25.00%</td>\n",
              "      <td>125</td>\n",
              "      <td>3</td>\n",
              "      <td>29</td>\n",
              "      <td>2016</td>\n",
              "      <td>Y</td>\n",
              "    </tr>\n",
              "    <tr>\n",
              "      <th>3</th>\n",
              "      <td>24900.0</td>\n",
              "      <td>Brekke LTD</td>\n",
              "      <td>$350,000.00</td>\n",
              "      <td>$490000.00</td>\n",
              "      <td>4.00%</td>\n",
              "      <td>75</td>\n",
              "      <td>10</td>\n",
              "      <td>27</td>\n",
              "      <td>2015</td>\n",
              "      <td>Y</td>\n",
              "    </tr>\n",
              "    <tr>\n",
              "      <th>4</th>\n",
              "      <td>651029.0</td>\n",
              "      <td>Harbor Co</td>\n",
              "      <td>$15,000.00</td>\n",
              "      <td>$12750.00</td>\n",
              "      <td>-15.00%</td>\n",
              "      <td>Closed</td>\n",
              "      <td>2</td>\n",
              "      <td>2</td>\n",
              "      <td>2014</td>\n",
              "      <td>N</td>\n",
              "    </tr>\n",
              "  </tbody>\n",
              "</table>\n",
              "</div>\n",
              "    <div class=\"colab-df-buttons\">\n",
              "\n",
              "  <div class=\"colab-df-container\">\n",
              "    <button class=\"colab-df-convert\" onclick=\"convertToInteractive('df-2287b728-8064-4112-bd3d-f4d125552852')\"\n",
              "            title=\"Convert this dataframe to an interactive table.\"\n",
              "            style=\"display:none;\">\n",
              "\n",
              "  <svg xmlns=\"http://www.w3.org/2000/svg\" height=\"24px\" viewBox=\"0 -960 960 960\">\n",
              "    <path d=\"M120-120v-720h720v720H120Zm60-500h600v-160H180v160Zm220 220h160v-160H400v160Zm0 220h160v-160H400v160ZM180-400h160v-160H180v160Zm440 0h160v-160H620v160ZM180-180h160v-160H180v160Zm440 0h160v-160H620v160Z\"/>\n",
              "  </svg>\n",
              "    </button>\n",
              "\n",
              "  <style>\n",
              "    .colab-df-container {\n",
              "      display:flex;\n",
              "      gap: 12px;\n",
              "    }\n",
              "\n",
              "    .colab-df-convert {\n",
              "      background-color: #E8F0FE;\n",
              "      border: none;\n",
              "      border-radius: 50%;\n",
              "      cursor: pointer;\n",
              "      display: none;\n",
              "      fill: #1967D2;\n",
              "      height: 32px;\n",
              "      padding: 0 0 0 0;\n",
              "      width: 32px;\n",
              "    }\n",
              "\n",
              "    .colab-df-convert:hover {\n",
              "      background-color: #E2EBFA;\n",
              "      box-shadow: 0px 1px 2px rgba(60, 64, 67, 0.3), 0px 1px 3px 1px rgba(60, 64, 67, 0.15);\n",
              "      fill: #174EA6;\n",
              "    }\n",
              "\n",
              "    .colab-df-buttons div {\n",
              "      margin-bottom: 4px;\n",
              "    }\n",
              "\n",
              "    [theme=dark] .colab-df-convert {\n",
              "      background-color: #3B4455;\n",
              "      fill: #D2E3FC;\n",
              "    }\n",
              "\n",
              "    [theme=dark] .colab-df-convert:hover {\n",
              "      background-color: #434B5C;\n",
              "      box-shadow: 0px 1px 3px 1px rgba(0, 0, 0, 0.15);\n",
              "      filter: drop-shadow(0px 1px 2px rgba(0, 0, 0, 0.3));\n",
              "      fill: #FFFFFF;\n",
              "    }\n",
              "  </style>\n",
              "\n",
              "    <script>\n",
              "      const buttonEl =\n",
              "        document.querySelector('#df-2287b728-8064-4112-bd3d-f4d125552852 button.colab-df-convert');\n",
              "      buttonEl.style.display =\n",
              "        google.colab.kernel.accessAllowed ? 'block' : 'none';\n",
              "\n",
              "      async function convertToInteractive(key) {\n",
              "        const element = document.querySelector('#df-2287b728-8064-4112-bd3d-f4d125552852');\n",
              "        const dataTable =\n",
              "          await google.colab.kernel.invokeFunction('convertToInteractive',\n",
              "                                                    [key], {});\n",
              "        if (!dataTable) return;\n",
              "\n",
              "        const docLinkHtml = 'Like what you see? Visit the ' +\n",
              "          '<a target=\"_blank\" href=https://colab.research.google.com/notebooks/data_table.ipynb>data table notebook</a>'\n",
              "          + ' to learn more about interactive tables.';\n",
              "        element.innerHTML = '';\n",
              "        dataTable['output_type'] = 'display_data';\n",
              "        await google.colab.output.renderOutput(dataTable, element);\n",
              "        const docLink = document.createElement('div');\n",
              "        docLink.innerHTML = docLinkHtml;\n",
              "        element.appendChild(docLink);\n",
              "      }\n",
              "    </script>\n",
              "  </div>\n",
              "\n",
              "\n",
              "<div id=\"df-4a4212be-9e4b-44c5-8ce1-ce8ee950cbbe\">\n",
              "  <button class=\"colab-df-quickchart\" onclick=\"quickchart('df-4a4212be-9e4b-44c5-8ce1-ce8ee950cbbe')\"\n",
              "            title=\"Suggest charts\"\n",
              "            style=\"display:none;\">\n",
              "\n",
              "<svg xmlns=\"http://www.w3.org/2000/svg\" height=\"24px\"viewBox=\"0 0 24 24\"\n",
              "     width=\"24px\">\n",
              "    <g>\n",
              "        <path d=\"M19 3H5c-1.1 0-2 .9-2 2v14c0 1.1.9 2 2 2h14c1.1 0 2-.9 2-2V5c0-1.1-.9-2-2-2zM9 17H7v-7h2v7zm4 0h-2V7h2v10zm4 0h-2v-4h2v4z\"/>\n",
              "    </g>\n",
              "</svg>\n",
              "  </button>\n",
              "\n",
              "<style>\n",
              "  .colab-df-quickchart {\n",
              "      --bg-color: #E8F0FE;\n",
              "      --fill-color: #1967D2;\n",
              "      --hover-bg-color: #E2EBFA;\n",
              "      --hover-fill-color: #174EA6;\n",
              "      --disabled-fill-color: #AAA;\n",
              "      --disabled-bg-color: #DDD;\n",
              "  }\n",
              "\n",
              "  [theme=dark] .colab-df-quickchart {\n",
              "      --bg-color: #3B4455;\n",
              "      --fill-color: #D2E3FC;\n",
              "      --hover-bg-color: #434B5C;\n",
              "      --hover-fill-color: #FFFFFF;\n",
              "      --disabled-bg-color: #3B4455;\n",
              "      --disabled-fill-color: #666;\n",
              "  }\n",
              "\n",
              "  .colab-df-quickchart {\n",
              "    background-color: var(--bg-color);\n",
              "    border: none;\n",
              "    border-radius: 50%;\n",
              "    cursor: pointer;\n",
              "    display: none;\n",
              "    fill: var(--fill-color);\n",
              "    height: 32px;\n",
              "    padding: 0;\n",
              "    width: 32px;\n",
              "  }\n",
              "\n",
              "  .colab-df-quickchart:hover {\n",
              "    background-color: var(--hover-bg-color);\n",
              "    box-shadow: 0 1px 2px rgba(60, 64, 67, 0.3), 0 1px 3px 1px rgba(60, 64, 67, 0.15);\n",
              "    fill: var(--button-hover-fill-color);\n",
              "  }\n",
              "\n",
              "  .colab-df-quickchart-complete:disabled,\n",
              "  .colab-df-quickchart-complete:disabled:hover {\n",
              "    background-color: var(--disabled-bg-color);\n",
              "    fill: var(--disabled-fill-color);\n",
              "    box-shadow: none;\n",
              "  }\n",
              "\n",
              "  .colab-df-spinner {\n",
              "    border: 2px solid var(--fill-color);\n",
              "    border-color: transparent;\n",
              "    border-bottom-color: var(--fill-color);\n",
              "    animation:\n",
              "      spin 1s steps(1) infinite;\n",
              "  }\n",
              "\n",
              "  @keyframes spin {\n",
              "    0% {\n",
              "      border-color: transparent;\n",
              "      border-bottom-color: var(--fill-color);\n",
              "      border-left-color: var(--fill-color);\n",
              "    }\n",
              "    20% {\n",
              "      border-color: transparent;\n",
              "      border-left-color: var(--fill-color);\n",
              "      border-top-color: var(--fill-color);\n",
              "    }\n",
              "    30% {\n",
              "      border-color: transparent;\n",
              "      border-left-color: var(--fill-color);\n",
              "      border-top-color: var(--fill-color);\n",
              "      border-right-color: var(--fill-color);\n",
              "    }\n",
              "    40% {\n",
              "      border-color: transparent;\n",
              "      border-right-color: var(--fill-color);\n",
              "      border-top-color: var(--fill-color);\n",
              "    }\n",
              "    60% {\n",
              "      border-color: transparent;\n",
              "      border-right-color: var(--fill-color);\n",
              "    }\n",
              "    80% {\n",
              "      border-color: transparent;\n",
              "      border-right-color: var(--fill-color);\n",
              "      border-bottom-color: var(--fill-color);\n",
              "    }\n",
              "    90% {\n",
              "      border-color: transparent;\n",
              "      border-bottom-color: var(--fill-color);\n",
              "    }\n",
              "  }\n",
              "</style>\n",
              "\n",
              "  <script>\n",
              "    async function quickchart(key) {\n",
              "      const quickchartButtonEl =\n",
              "        document.querySelector('#' + key + ' button');\n",
              "      quickchartButtonEl.disabled = true;  // To prevent multiple clicks.\n",
              "      quickchartButtonEl.classList.add('colab-df-spinner');\n",
              "      try {\n",
              "        const charts = await google.colab.kernel.invokeFunction(\n",
              "            'suggestCharts', [key], {});\n",
              "      } catch (error) {\n",
              "        console.error('Error during call to suggestCharts:', error);\n",
              "      }\n",
              "      quickchartButtonEl.classList.remove('colab-df-spinner');\n",
              "      quickchartButtonEl.classList.add('colab-df-quickchart-complete');\n",
              "    }\n",
              "    (() => {\n",
              "      let quickchartButtonEl =\n",
              "        document.querySelector('#df-4a4212be-9e4b-44c5-8ce1-ce8ee950cbbe button');\n",
              "      quickchartButtonEl.style.display =\n",
              "        google.colab.kernel.accessAllowed ? 'block' : 'none';\n",
              "    })();\n",
              "  </script>\n",
              "</div>\n",
              "\n",
              "    </div>\n",
              "  </div>\n"
            ],
            "application/vnd.google.colaboratory.intrinsic+json": {
              "type": "dataframe",
              "variable_name": "df_corregido",
              "summary": "{\n  \"name\": \"df_corregido\",\n  \"rows\": 5,\n  \"fields\": [\n    {\n      \"column\": \"Customer_Number\",\n      \"properties\": {\n        \"dtype\": \"number\",\n        \"std\": 320838.99978758814,\n        \"min\": 10002.0,\n        \"max\": 651029.0,\n        \"num_unique_values\": 5,\n        \"samples\": [\n          552278.0,\n          651029.0,\n          23477.0\n        ],\n        \"semantic_type\": \"\",\n        \"description\": \"\"\n      }\n    },\n    {\n      \"column\": \"Customer_Name\",\n      \"properties\": {\n        \"dtype\": \"string\",\n        \"num_unique_values\": 5,\n        \"samples\": [\n          \"Smith Plumbing\",\n          \"Harbor Co\",\n          \"ACME Industrial\"\n        ],\n        \"semantic_type\": \"\",\n        \"description\": \"\"\n      }\n    },\n    {\n      \"column\": \"2016\",\n      \"properties\": {\n        \"dtype\": \"string\",\n        \"num_unique_values\": 5,\n        \"samples\": [\n          \"$920,000.00\",\n          \"$15,000.00\",\n          \"$50,000.00\"\n        ],\n        \"semantic_type\": \"\",\n        \"description\": \"\"\n      }\n    },\n    {\n      \"column\": \"2017\",\n      \"properties\": {\n        \"dtype\": \"string\",\n        \"num_unique_values\": 5,\n        \"samples\": [\n          \"$101,2000.00\",\n          \"$12750.00\",\n          \"$62500.00\"\n        ],\n        \"semantic_type\": \"\",\n        \"description\": \"\"\n      }\n    },\n    {\n      \"column\": \"Percent_Growth\",\n      \"properties\": {\n        \"dtype\": \"string\",\n        \"num_unique_values\": 5,\n        \"samples\": [\n          \"10.00%\",\n          \"-15.00%\",\n          \"25.00%\"\n        ],\n        \"semantic_type\": \"\",\n        \"description\": \"\"\n      }\n    },\n    {\n      \"column\": \"Jan_Units\",\n      \"properties\": {\n        \"dtype\": \"string\",\n        \"num_unique_values\": 5,\n        \"samples\": [\n          \"700\",\n          \"Closed\",\n          \"125\"\n        ],\n        \"semantic_type\": \"\",\n        \"description\": \"\"\n      }\n    },\n    {\n      \"column\": \"Month\",\n      \"properties\": {\n        \"dtype\": \"number\",\n        \"std\": 3,\n        \"min\": 1,\n        \"max\": 10,\n        \"num_unique_values\": 5,\n        \"samples\": [\n          6,\n          2,\n          3\n        ],\n        \"semantic_type\": \"\",\n        \"description\": \"\"\n      }\n    },\n    {\n      \"column\": \"Day\",\n      \"properties\": {\n        \"dtype\": \"number\",\n        \"std\": 11,\n        \"min\": 2,\n        \"max\": 29,\n        \"num_unique_values\": 5,\n        \"samples\": [\n          15,\n          2,\n          29\n        ],\n        \"semantic_type\": \"\",\n        \"description\": \"\"\n      }\n    },\n    {\n      \"column\": \"Year\",\n      \"properties\": {\n        \"dtype\": \"number\",\n        \"std\": 0,\n        \"min\": 2014,\n        \"max\": 2016,\n        \"num_unique_values\": 3,\n        \"samples\": [\n          2015,\n          2014,\n          2016\n        ],\n        \"semantic_type\": \"\",\n        \"description\": \"\"\n      }\n    },\n    {\n      \"column\": \"Active\",\n      \"properties\": {\n        \"dtype\": \"category\",\n        \"num_unique_values\": 2,\n        \"samples\": [\n          \"N\",\n          \"Y\"\n        ],\n        \"semantic_type\": \"\",\n        \"description\": \"\"\n      }\n    }\n  ]\n}"
            }
          },
          "metadata": {},
          "execution_count": 41
        }
      ]
    },
    {
      "cell_type": "markdown",
      "source": [
        "5.Inspeccionar los tipos de datos por columna"
      ],
      "metadata": {
        "id": "cfK_5gbgUdsy"
      }
    },
    {
      "cell_type": "code",
      "source": [
        "print(df_corregido.dtypes)"
      ],
      "metadata": {
        "colab": {
          "base_uri": "https://localhost:8080/"
        },
        "id": "3Gvx4K3iUh42",
        "outputId": "cccc47a8-ffdb-4fc9-c68a-8344d3bb4f29"
      },
      "execution_count": 42,
      "outputs": [
        {
          "output_type": "stream",
          "name": "stdout",
          "text": [
            "Customer_Number    float64\n",
            "Customer_Name       object\n",
            "2016                object\n",
            "2017                object\n",
            "Percent_Growth      object\n",
            "Jan_Units           object\n",
            "Month                int64\n",
            "Day                  int64\n",
            "Year                 int64\n",
            "Active              object\n",
            "dtype: object\n"
          ]
        }
      ]
    },
    {
      "cell_type": "markdown",
      "source": [
        "6. Corregir ventas 2016 y 2017"
      ],
      "metadata": {
        "id": "qx2U3tyYU2gM"
      }
    },
    {
      "cell_type": "code",
      "source": [
        "ventas_totales = df_corregido[\"2016\"].sum() + df_corregido[\"2017\"].sum()\n",
        "print(ventas_totales)\n",
        "#Lo suma como string, entonces tenemos que corregir el tipo de dato."
      ],
      "metadata": {
        "colab": {
          "base_uri": "https://localhost:8080/"
        },
        "id": "x4wCbor9VATd",
        "outputId": "e0365d29-8678-4d2a-99ed-73fc10ab7bc7"
      },
      "execution_count": 43,
      "outputs": [
        {
          "output_type": "stream",
          "name": "stdout",
          "text": [
            "$125,000.00$920,000.00$50,000.00$350,000.00$15,000.00$162500.00$101,2000.00$62500.00$490000.00$12750.00\n"
          ]
        }
      ]
    },
    {
      "cell_type": "code",
      "source": [
        "años = [\"2016\",\"2017\"]\n",
        "if df_corregido[\"2016\"].dtype == \"object\":\n",
        "  for año in años:\n",
        "    df_corregido[año] = df_corregido[año].str.replace(\"$\", \"\")\n",
        "    df_corregido[año] = df_corregido[año].str.replace(\",\", \"\")\n",
        "    df_corregido[año] = df_corregido[año].astype(float)\n",
        "total_ventas = (df_corregido[\"2016\"].sum() + df_corregido[\"2017\"].sum())\n",
        "print(f\"El total de ventas en 2016 y 2017 es: ${total_ventas}\")"
      ],
      "metadata": {
        "colab": {
          "base_uri": "https://localhost:8080/"
        },
        "id": "O5bFfNIdWNry",
        "outputId": "c73ee616-33aa-40b4-ae2a-b367cb82253a"
      },
      "execution_count": 44,
      "outputs": [
        {
          "output_type": "stream",
          "name": "stdout",
          "text": [
            "El total de ventas en 2016 y 2017 es: $3199750.0\n"
          ]
        }
      ]
    },
    {
      "cell_type": "markdown",
      "source": [
        "7.Transformar las columnas a los tipos de datos correctos"
      ],
      "metadata": {
        "id": "NKkaljENYN-N"
      }
    },
    {
      "cell_type": "code",
      "source": [
        "df_corregido[\"Customer_Number\"] = df_corregido[\"Customer_Number\"].astype(\"int64\")\n",
        "df_corregido[\"Customer_Name\"] = df_corregido[\"Customer_Name\"].astype(\"string\")\n",
        "df_corregido[\"2016\"] = df_corregido[\"2016\"].replace(\"[\\$,]\", '', regex=True).astype(\"float64\")\n",
        "df_corregido[\"2017\"] = df_corregido[\"2017\"].replace(\"[\\$,]\", '', regex=True).astype(\"float64\")\n",
        "df_corregido[\"Percent_Growth\"] = df_corregido[\"Percent_Growth\"].replace('%', '', regex=True).astype(\"float64\") / 100\n",
        "df_corregido[\"Jan_Units\"] = pd.to_numeric(df_corregido[\"Jan_Units\"], errors=\"coerce\")\n",
        "df_corregido[\"Active\"] = df_corregido[\"Active\"].astype(bool)\n",
        "print(df_corregido.dtypes)"
      ],
      "metadata": {
        "colab": {
          "base_uri": "https://localhost:8080/"
        },
        "id": "kZYispvDYR3j",
        "outputId": "b9da3fec-1ac1-4685-87e5-da95cbfac714"
      },
      "execution_count": 45,
      "outputs": [
        {
          "output_type": "stream",
          "name": "stdout",
          "text": [
            "Customer_Number             int64\n",
            "Customer_Name      string[python]\n",
            "2016                      float64\n",
            "2017                      float64\n",
            "Percent_Growth            float64\n",
            "Jan_Units                 float64\n",
            "Month                       int64\n",
            "Day                         int64\n",
            "Year                        int64\n",
            "Active                       bool\n",
            "dtype: object\n"
          ]
        }
      ]
    },
    {
      "cell_type": "markdown",
      "source": [
        "8.Agregar columna start_date"
      ],
      "metadata": {
        "id": "d_wmiq4qagwH"
      }
    },
    {
      "cell_type": "code",
      "source": [
        "df_corregido[\"Start_Date\"] = pd.to_datetime(df_corregido[[\"Year\", \"Month\", \"Day\"]])\n",
        "print(df_corregido.head())"
      ],
      "metadata": {
        "colab": {
          "base_uri": "https://localhost:8080/"
        },
        "id": "Yn1HI7uCanaX",
        "outputId": "99ef2af5-f836-40a2-b6d3-09d47bc8319b"
      },
      "execution_count": 46,
      "outputs": [
        {
          "output_type": "stream",
          "name": "stdout",
          "text": [
            "   Customer_Number     Customer_Name      2016       2017  Percent_Growth  \\\n",
            "0            10002  Quest Industries  125000.0   162500.0            0.30   \n",
            "1           552278    Smith Plumbing  920000.0  1012000.0            0.10   \n",
            "2            23477   ACME Industrial   50000.0    62500.0            0.25   \n",
            "3            24900        Brekke LTD  350000.0   490000.0            0.04   \n",
            "4           651029         Harbor Co   15000.0    12750.0           -0.15   \n",
            "\n",
            "   Jan_Units  Month  Day  Year  Active Start_Date  \n",
            "0      500.0      1   10  2015    True 2015-01-10  \n",
            "1      700.0      6   15  2014    True 2014-06-15  \n",
            "2      125.0      3   29  2016    True 2016-03-29  \n",
            "3       75.0     10   27  2015    True 2015-10-27  \n",
            "4        NaN      2    2  2014    True 2014-02-02  \n"
          ]
        }
      ]
    },
    {
      "cell_type": "markdown",
      "source": [
        "9.Mostrar 3 filas de todas las columnas"
      ],
      "metadata": {
        "id": "WsyXm9DjbT2z"
      }
    },
    {
      "cell_type": "code",
      "source": [
        "print(df_corregido.head(3))\n",
        "print(df_corregido.iloc[[1, 2], :2])"
      ],
      "metadata": {
        "colab": {
          "base_uri": "https://localhost:8080/"
        },
        "id": "QfG_7PWdbaTR",
        "outputId": "b2bdbde5-087a-473c-d296-a084263aefd7"
      },
      "execution_count": 47,
      "outputs": [
        {
          "output_type": "stream",
          "name": "stdout",
          "text": [
            "   Customer_Number     Customer_Name      2016       2017  Percent_Growth  \\\n",
            "0            10002  Quest Industries  125000.0   162500.0            0.30   \n",
            "1           552278    Smith Plumbing  920000.0  1012000.0            0.10   \n",
            "2            23477   ACME Industrial   50000.0    62500.0            0.25   \n",
            "\n",
            "   Jan_Units  Month  Day  Year  Active Start_Date  \n",
            "0      500.0      1   10  2015    True 2015-01-10  \n",
            "1      700.0      6   15  2014    True 2014-06-15  \n",
            "2      125.0      3   29  2016    True 2016-03-29  \n",
            "   Customer_Number    Customer_Name\n",
            "1           552278   Smith Plumbing\n",
            "2            23477  ACME Industrial\n"
          ]
        }
      ]
    },
    {
      "cell_type": "markdown",
      "source": [
        "10.Mostrar en orden columna 2016"
      ],
      "metadata": {
        "id": "iDlGZZ4ycdII"
      }
    },
    {
      "cell_type": "code",
      "source": [
        "df_ascendente= df_corregido.sort_values(by=\"2016\", ascending=True)\n",
        "print(df_ascendente)"
      ],
      "metadata": {
        "colab": {
          "base_uri": "https://localhost:8080/"
        },
        "id": "aOdIrOuychjP",
        "outputId": "324375de-18fd-4f14-b45d-489e03b53a0c"
      },
      "execution_count": 50,
      "outputs": [
        {
          "output_type": "stream",
          "name": "stdout",
          "text": [
            "   Customer_Number     Customer_Name      2016       2017  Percent_Growth  \\\n",
            "4           651029         Harbor Co   15000.0    12750.0           -0.15   \n",
            "2            23477   ACME Industrial   50000.0    62500.0            0.25   \n",
            "0            10002  Quest Industries  125000.0   162500.0            0.30   \n",
            "3            24900        Brekke LTD  350000.0   490000.0            0.04   \n",
            "1           552278    Smith Plumbing  920000.0  1012000.0            0.10   \n",
            "\n",
            "   Jan_Units  Month  Day  Year  Active Start_Date  \n",
            "4        NaN      2    2  2014    True 2014-02-02  \n",
            "2      125.0      3   29  2016    True 2016-03-29  \n",
            "0      500.0      1   10  2015    True 2015-01-10  \n",
            "3       75.0     10   27  2015    True 2015-10-27  \n",
            "1      700.0      6   15  2014    True 2014-06-15  \n"
          ]
        }
      ]
    },
    {
      "cell_type": "markdown",
      "source": [
        "11.Media de 2016"
      ],
      "metadata": {
        "id": "3FFv1GH2c9DB"
      }
    },
    {
      "cell_type": "code",
      "source": [
        "media_2016 = df_corregido[\"2016\"].mean()\n",
        "print(f\"La media de 2016 es: {round(media_2016,2)}\")"
      ],
      "metadata": {
        "colab": {
          "base_uri": "https://localhost:8080/"
        },
        "id": "DyFoM93Rc_g7",
        "outputId": "d6df8aca-ec5b-4fa3-d880-2275d8394d90"
      },
      "execution_count": 56,
      "outputs": [
        {
          "output_type": "stream",
          "name": "stdout",
          "text": [
            "La media de 2016 es: 292000.0\n"
          ]
        }
      ]
    },
    {
      "cell_type": "markdown",
      "source": [
        "12.Describe"
      ],
      "metadata": {
        "id": "yLTP2ax_dgYV"
      }
    },
    {
      "cell_type": "code",
      "source": [
        "df_corregido.describe()"
      ],
      "metadata": {
        "colab": {
          "base_uri": "https://localhost:8080/",
          "height": 424
        },
        "id": "bzfQyaU8df8Z",
        "outputId": "b0561258-d095-4c4b-ef1a-5ffba2350015"
      },
      "execution_count": 57,
      "outputs": [
        {
          "output_type": "execute_result",
          "data": {
            "text/plain": [
              "       Customer_Number           2016          2017  Percent_Growth  \\\n",
              "count         5.000000       5.000000  5.000000e+00        5.000000   \n",
              "mean     252337.200000  292000.000000  3.479500e+05        0.108000   \n",
              "min       10002.000000   15000.000000  1.275000e+04       -0.150000   \n",
              "25%       23477.000000   50000.000000  6.250000e+04        0.040000   \n",
              "50%       24900.000000  125000.000000  1.625000e+05        0.100000   \n",
              "75%      552278.000000  350000.000000  4.900000e+05        0.250000   \n",
              "max      651029.000000  920000.000000  1.012000e+06        0.300000   \n",
              "std      320838.999788  374476.300986  4.151425e+05        0.179081   \n",
              "\n",
              "        Jan_Units      Month        Day        Year           Start_Date  \n",
              "count    4.000000   5.000000   5.000000     5.00000                    5  \n",
              "mean   350.000000   4.400000  16.600000  2014.80000  2015-02-15 14:24:00  \n",
              "min     75.000000   1.000000   2.000000  2014.00000  2014-02-02 00:00:00  \n",
              "25%    112.500000   2.000000  10.000000  2014.00000  2014-06-15 00:00:00  \n",
              "50%    312.500000   3.000000  15.000000  2015.00000  2015-01-10 00:00:00  \n",
              "75%    550.000000   6.000000  27.000000  2015.00000  2015-10-27 00:00:00  \n",
              "max    700.000000  10.000000  29.000000  2016.00000  2016-03-29 00:00:00  \n",
              "std    300.693643   3.646917  11.414903     0.83666                  NaN  "
            ],
            "text/html": [
              "\n",
              "  <div id=\"df-97d92501-1b2b-43c7-9cf3-f8590d5cc2d1\" class=\"colab-df-container\">\n",
              "    <div>\n",
              "<style scoped>\n",
              "    .dataframe tbody tr th:only-of-type {\n",
              "        vertical-align: middle;\n",
              "    }\n",
              "\n",
              "    .dataframe tbody tr th {\n",
              "        vertical-align: top;\n",
              "    }\n",
              "\n",
              "    .dataframe thead th {\n",
              "        text-align: right;\n",
              "    }\n",
              "</style>\n",
              "<table border=\"1\" class=\"dataframe\">\n",
              "  <thead>\n",
              "    <tr style=\"text-align: right;\">\n",
              "      <th></th>\n",
              "      <th>Customer_Number</th>\n",
              "      <th>2016</th>\n",
              "      <th>2017</th>\n",
              "      <th>Percent_Growth</th>\n",
              "      <th>Jan_Units</th>\n",
              "      <th>Month</th>\n",
              "      <th>Day</th>\n",
              "      <th>Year</th>\n",
              "      <th>Start_Date</th>\n",
              "    </tr>\n",
              "  </thead>\n",
              "  <tbody>\n",
              "    <tr>\n",
              "      <th>count</th>\n",
              "      <td>5.000000</td>\n",
              "      <td>5.000000</td>\n",
              "      <td>5.000000e+00</td>\n",
              "      <td>5.000000</td>\n",
              "      <td>4.000000</td>\n",
              "      <td>5.000000</td>\n",
              "      <td>5.000000</td>\n",
              "      <td>5.00000</td>\n",
              "      <td>5</td>\n",
              "    </tr>\n",
              "    <tr>\n",
              "      <th>mean</th>\n",
              "      <td>252337.200000</td>\n",
              "      <td>292000.000000</td>\n",
              "      <td>3.479500e+05</td>\n",
              "      <td>0.108000</td>\n",
              "      <td>350.000000</td>\n",
              "      <td>4.400000</td>\n",
              "      <td>16.600000</td>\n",
              "      <td>2014.80000</td>\n",
              "      <td>2015-02-15 14:24:00</td>\n",
              "    </tr>\n",
              "    <tr>\n",
              "      <th>min</th>\n",
              "      <td>10002.000000</td>\n",
              "      <td>15000.000000</td>\n",
              "      <td>1.275000e+04</td>\n",
              "      <td>-0.150000</td>\n",
              "      <td>75.000000</td>\n",
              "      <td>1.000000</td>\n",
              "      <td>2.000000</td>\n",
              "      <td>2014.00000</td>\n",
              "      <td>2014-02-02 00:00:00</td>\n",
              "    </tr>\n",
              "    <tr>\n",
              "      <th>25%</th>\n",
              "      <td>23477.000000</td>\n",
              "      <td>50000.000000</td>\n",
              "      <td>6.250000e+04</td>\n",
              "      <td>0.040000</td>\n",
              "      <td>112.500000</td>\n",
              "      <td>2.000000</td>\n",
              "      <td>10.000000</td>\n",
              "      <td>2014.00000</td>\n",
              "      <td>2014-06-15 00:00:00</td>\n",
              "    </tr>\n",
              "    <tr>\n",
              "      <th>50%</th>\n",
              "      <td>24900.000000</td>\n",
              "      <td>125000.000000</td>\n",
              "      <td>1.625000e+05</td>\n",
              "      <td>0.100000</td>\n",
              "      <td>312.500000</td>\n",
              "      <td>3.000000</td>\n",
              "      <td>15.000000</td>\n",
              "      <td>2015.00000</td>\n",
              "      <td>2015-01-10 00:00:00</td>\n",
              "    </tr>\n",
              "    <tr>\n",
              "      <th>75%</th>\n",
              "      <td>552278.000000</td>\n",
              "      <td>350000.000000</td>\n",
              "      <td>4.900000e+05</td>\n",
              "      <td>0.250000</td>\n",
              "      <td>550.000000</td>\n",
              "      <td>6.000000</td>\n",
              "      <td>27.000000</td>\n",
              "      <td>2015.00000</td>\n",
              "      <td>2015-10-27 00:00:00</td>\n",
              "    </tr>\n",
              "    <tr>\n",
              "      <th>max</th>\n",
              "      <td>651029.000000</td>\n",
              "      <td>920000.000000</td>\n",
              "      <td>1.012000e+06</td>\n",
              "      <td>0.300000</td>\n",
              "      <td>700.000000</td>\n",
              "      <td>10.000000</td>\n",
              "      <td>29.000000</td>\n",
              "      <td>2016.00000</td>\n",
              "      <td>2016-03-29 00:00:00</td>\n",
              "    </tr>\n",
              "    <tr>\n",
              "      <th>std</th>\n",
              "      <td>320838.999788</td>\n",
              "      <td>374476.300986</td>\n",
              "      <td>4.151425e+05</td>\n",
              "      <td>0.179081</td>\n",
              "      <td>300.693643</td>\n",
              "      <td>3.646917</td>\n",
              "      <td>11.414903</td>\n",
              "      <td>0.83666</td>\n",
              "      <td>NaN</td>\n",
              "    </tr>\n",
              "  </tbody>\n",
              "</table>\n",
              "</div>\n",
              "    <div class=\"colab-df-buttons\">\n",
              "\n",
              "  <div class=\"colab-df-container\">\n",
              "    <button class=\"colab-df-convert\" onclick=\"convertToInteractive('df-97d92501-1b2b-43c7-9cf3-f8590d5cc2d1')\"\n",
              "            title=\"Convert this dataframe to an interactive table.\"\n",
              "            style=\"display:none;\">\n",
              "\n",
              "  <svg xmlns=\"http://www.w3.org/2000/svg\" height=\"24px\" viewBox=\"0 -960 960 960\">\n",
              "    <path d=\"M120-120v-720h720v720H120Zm60-500h600v-160H180v160Zm220 220h160v-160H400v160Zm0 220h160v-160H400v160ZM180-400h160v-160H180v160Zm440 0h160v-160H620v160ZM180-180h160v-160H180v160Zm440 0h160v-160H620v160Z\"/>\n",
              "  </svg>\n",
              "    </button>\n",
              "\n",
              "  <style>\n",
              "    .colab-df-container {\n",
              "      display:flex;\n",
              "      gap: 12px;\n",
              "    }\n",
              "\n",
              "    .colab-df-convert {\n",
              "      background-color: #E8F0FE;\n",
              "      border: none;\n",
              "      border-radius: 50%;\n",
              "      cursor: pointer;\n",
              "      display: none;\n",
              "      fill: #1967D2;\n",
              "      height: 32px;\n",
              "      padding: 0 0 0 0;\n",
              "      width: 32px;\n",
              "    }\n",
              "\n",
              "    .colab-df-convert:hover {\n",
              "      background-color: #E2EBFA;\n",
              "      box-shadow: 0px 1px 2px rgba(60, 64, 67, 0.3), 0px 1px 3px 1px rgba(60, 64, 67, 0.15);\n",
              "      fill: #174EA6;\n",
              "    }\n",
              "\n",
              "    .colab-df-buttons div {\n",
              "      margin-bottom: 4px;\n",
              "    }\n",
              "\n",
              "    [theme=dark] .colab-df-convert {\n",
              "      background-color: #3B4455;\n",
              "      fill: #D2E3FC;\n",
              "    }\n",
              "\n",
              "    [theme=dark] .colab-df-convert:hover {\n",
              "      background-color: #434B5C;\n",
              "      box-shadow: 0px 1px 3px 1px rgba(0, 0, 0, 0.15);\n",
              "      filter: drop-shadow(0px 1px 2px rgba(0, 0, 0, 0.3));\n",
              "      fill: #FFFFFF;\n",
              "    }\n",
              "  </style>\n",
              "\n",
              "    <script>\n",
              "      const buttonEl =\n",
              "        document.querySelector('#df-97d92501-1b2b-43c7-9cf3-f8590d5cc2d1 button.colab-df-convert');\n",
              "      buttonEl.style.display =\n",
              "        google.colab.kernel.accessAllowed ? 'block' : 'none';\n",
              "\n",
              "      async function convertToInteractive(key) {\n",
              "        const element = document.querySelector('#df-97d92501-1b2b-43c7-9cf3-f8590d5cc2d1');\n",
              "        const dataTable =\n",
              "          await google.colab.kernel.invokeFunction('convertToInteractive',\n",
              "                                                    [key], {});\n",
              "        if (!dataTable) return;\n",
              "\n",
              "        const docLinkHtml = 'Like what you see? Visit the ' +\n",
              "          '<a target=\"_blank\" href=https://colab.research.google.com/notebooks/data_table.ipynb>data table notebook</a>'\n",
              "          + ' to learn more about interactive tables.';\n",
              "        element.innerHTML = '';\n",
              "        dataTable['output_type'] = 'display_data';\n",
              "        await google.colab.output.renderOutput(dataTable, element);\n",
              "        const docLink = document.createElement('div');\n",
              "        docLink.innerHTML = docLinkHtml;\n",
              "        element.appendChild(docLink);\n",
              "      }\n",
              "    </script>\n",
              "  </div>\n",
              "\n",
              "\n",
              "<div id=\"df-14c0b94b-6ec7-495d-9f5c-e063a328a314\">\n",
              "  <button class=\"colab-df-quickchart\" onclick=\"quickchart('df-14c0b94b-6ec7-495d-9f5c-e063a328a314')\"\n",
              "            title=\"Suggest charts\"\n",
              "            style=\"display:none;\">\n",
              "\n",
              "<svg xmlns=\"http://www.w3.org/2000/svg\" height=\"24px\"viewBox=\"0 0 24 24\"\n",
              "     width=\"24px\">\n",
              "    <g>\n",
              "        <path d=\"M19 3H5c-1.1 0-2 .9-2 2v14c0 1.1.9 2 2 2h14c1.1 0 2-.9 2-2V5c0-1.1-.9-2-2-2zM9 17H7v-7h2v7zm4 0h-2V7h2v10zm4 0h-2v-4h2v4z\"/>\n",
              "    </g>\n",
              "</svg>\n",
              "  </button>\n",
              "\n",
              "<style>\n",
              "  .colab-df-quickchart {\n",
              "      --bg-color: #E8F0FE;\n",
              "      --fill-color: #1967D2;\n",
              "      --hover-bg-color: #E2EBFA;\n",
              "      --hover-fill-color: #174EA6;\n",
              "      --disabled-fill-color: #AAA;\n",
              "      --disabled-bg-color: #DDD;\n",
              "  }\n",
              "\n",
              "  [theme=dark] .colab-df-quickchart {\n",
              "      --bg-color: #3B4455;\n",
              "      --fill-color: #D2E3FC;\n",
              "      --hover-bg-color: #434B5C;\n",
              "      --hover-fill-color: #FFFFFF;\n",
              "      --disabled-bg-color: #3B4455;\n",
              "      --disabled-fill-color: #666;\n",
              "  }\n",
              "\n",
              "  .colab-df-quickchart {\n",
              "    background-color: var(--bg-color);\n",
              "    border: none;\n",
              "    border-radius: 50%;\n",
              "    cursor: pointer;\n",
              "    display: none;\n",
              "    fill: var(--fill-color);\n",
              "    height: 32px;\n",
              "    padding: 0;\n",
              "    width: 32px;\n",
              "  }\n",
              "\n",
              "  .colab-df-quickchart:hover {\n",
              "    background-color: var(--hover-bg-color);\n",
              "    box-shadow: 0 1px 2px rgba(60, 64, 67, 0.3), 0 1px 3px 1px rgba(60, 64, 67, 0.15);\n",
              "    fill: var(--button-hover-fill-color);\n",
              "  }\n",
              "\n",
              "  .colab-df-quickchart-complete:disabled,\n",
              "  .colab-df-quickchart-complete:disabled:hover {\n",
              "    background-color: var(--disabled-bg-color);\n",
              "    fill: var(--disabled-fill-color);\n",
              "    box-shadow: none;\n",
              "  }\n",
              "\n",
              "  .colab-df-spinner {\n",
              "    border: 2px solid var(--fill-color);\n",
              "    border-color: transparent;\n",
              "    border-bottom-color: var(--fill-color);\n",
              "    animation:\n",
              "      spin 1s steps(1) infinite;\n",
              "  }\n",
              "\n",
              "  @keyframes spin {\n",
              "    0% {\n",
              "      border-color: transparent;\n",
              "      border-bottom-color: var(--fill-color);\n",
              "      border-left-color: var(--fill-color);\n",
              "    }\n",
              "    20% {\n",
              "      border-color: transparent;\n",
              "      border-left-color: var(--fill-color);\n",
              "      border-top-color: var(--fill-color);\n",
              "    }\n",
              "    30% {\n",
              "      border-color: transparent;\n",
              "      border-left-color: var(--fill-color);\n",
              "      border-top-color: var(--fill-color);\n",
              "      border-right-color: var(--fill-color);\n",
              "    }\n",
              "    40% {\n",
              "      border-color: transparent;\n",
              "      border-right-color: var(--fill-color);\n",
              "      border-top-color: var(--fill-color);\n",
              "    }\n",
              "    60% {\n",
              "      border-color: transparent;\n",
              "      border-right-color: var(--fill-color);\n",
              "    }\n",
              "    80% {\n",
              "      border-color: transparent;\n",
              "      border-right-color: var(--fill-color);\n",
              "      border-bottom-color: var(--fill-color);\n",
              "    }\n",
              "    90% {\n",
              "      border-color: transparent;\n",
              "      border-bottom-color: var(--fill-color);\n",
              "    }\n",
              "  }\n",
              "</style>\n",
              "\n",
              "  <script>\n",
              "    async function quickchart(key) {\n",
              "      const quickchartButtonEl =\n",
              "        document.querySelector('#' + key + ' button');\n",
              "      quickchartButtonEl.disabled = true;  // To prevent multiple clicks.\n",
              "      quickchartButtonEl.classList.add('colab-df-spinner');\n",
              "      try {\n",
              "        const charts = await google.colab.kernel.invokeFunction(\n",
              "            'suggestCharts', [key], {});\n",
              "      } catch (error) {\n",
              "        console.error('Error during call to suggestCharts:', error);\n",
              "      }\n",
              "      quickchartButtonEl.classList.remove('colab-df-spinner');\n",
              "      quickchartButtonEl.classList.add('colab-df-quickchart-complete');\n",
              "    }\n",
              "    (() => {\n",
              "      let quickchartButtonEl =\n",
              "        document.querySelector('#df-14c0b94b-6ec7-495d-9f5c-e063a328a314 button');\n",
              "      quickchartButtonEl.style.display =\n",
              "        google.colab.kernel.accessAllowed ? 'block' : 'none';\n",
              "    })();\n",
              "  </script>\n",
              "</div>\n",
              "\n",
              "    </div>\n",
              "  </div>\n"
            ],
            "application/vnd.google.colaboratory.intrinsic+json": {
              "type": "dataframe",
              "summary": "{\n  \"name\": \"df_corregido\",\n  \"rows\": 8,\n  \"fields\": [\n    {\n      \"column\": \"Customer_Number\",\n      \"properties\": {\n        \"dtype\": \"number\",\n        \"std\": 260738.09762301898,\n        \"min\": 5.0,\n        \"max\": 651029.0,\n        \"num_unique_values\": 8,\n        \"samples\": [\n          252337.2,\n          552278.0,\n          5.0\n        ],\n        \"semantic_type\": \"\",\n        \"description\": \"\"\n      }\n    },\n    {\n      \"column\": \"2016\",\n      \"properties\": {\n        \"dtype\": \"number\",\n        \"std\": 304139.57312737725,\n        \"min\": 5.0,\n        \"max\": 920000.0,\n        \"num_unique_values\": 8,\n        \"samples\": [\n          292000.0,\n          350000.0,\n          5.0\n        ],\n        \"semantic_type\": \"\",\n        \"description\": \"\"\n      }\n    },\n    {\n      \"column\": \"2017\",\n      \"properties\": {\n        \"dtype\": \"number\",\n        \"std\": 339137.74092039425,\n        \"min\": 5.0,\n        \"max\": 1012000.0,\n        \"num_unique_values\": 8,\n        \"samples\": [\n          347950.0,\n          490000.0,\n          5.0\n        ],\n        \"semantic_type\": \"\",\n        \"description\": \"\"\n      }\n    },\n    {\n      \"column\": \"Percent_Growth\",\n      \"properties\": {\n        \"dtype\": \"number\",\n        \"std\": 1.7314723254246889,\n        \"min\": -0.15,\n        \"max\": 5.0,\n        \"num_unique_values\": 8,\n        \"samples\": [\n          0.10800000000000001,\n          0.25,\n          5.0\n        ],\n        \"semantic_type\": \"\",\n        \"description\": \"\"\n      }\n    },\n    {\n      \"column\": \"Jan_Units\",\n      \"properties\": {\n        \"dtype\": \"number\",\n        \"std\": 238.61242554010872,\n        \"min\": 4.0,\n        \"max\": 700.0,\n        \"num_unique_values\": 8,\n        \"samples\": [\n          350.0,\n          550.0,\n          4.0\n        ],\n        \"semantic_type\": \"\",\n        \"description\": \"\"\n      }\n    },\n    {\n      \"column\": \"Month\",\n      \"properties\": {\n        \"dtype\": \"number\",\n        \"std\": 2.780652683653543,\n        \"min\": 1.0,\n        \"max\": 10.0,\n        \"num_unique_values\": 8,\n        \"samples\": [\n          4.4,\n          6.0,\n          5.0\n        ],\n        \"semantic_type\": \"\",\n        \"description\": \"\"\n      }\n    },\n    {\n      \"column\": \"Day\",\n      \"properties\": {\n        \"dtype\": \"number\",\n        \"std\": 9.617155791132278,\n        \"min\": 2.0,\n        \"max\": 29.0,\n        \"num_unique_values\": 8,\n        \"samples\": [\n          16.6,\n          27.0,\n          5.0\n        ],\n        \"semantic_type\": \"\",\n        \"description\": \"\"\n      }\n    },\n    {\n      \"column\": \"Year\",\n      \"properties\": {\n        \"dtype\": \"number\",\n        \"std\": 931.3211236688585,\n        \"min\": 0.8366600265340756,\n        \"max\": 2016.0,\n        \"num_unique_values\": 6,\n        \"samples\": [\n          5.0,\n          2014.8,\n          0.8366600265340756\n        ],\n        \"semantic_type\": \"\",\n        \"description\": \"\"\n      }\n    },\n    {\n      \"column\": \"Start_Date\",\n      \"properties\": {\n        \"dtype\": \"date\",\n        \"min\": \"1970-01-01 00:00:00.000000005\",\n        \"max\": \"2016-03-29 00:00:00\",\n        \"num_unique_values\": 7,\n        \"samples\": [\n          \"5\",\n          \"2015-02-15 14:24:00\",\n          \"2015-10-27 00:00:00\"\n        ],\n        \"semantic_type\": \"\",\n        \"description\": \"\"\n      }\n    }\n  ]\n}"
            }
          },
          "metadata": {},
          "execution_count": 57
        }
      ]
    },
    {
      "cell_type": "markdown",
      "source": [
        "Ejercicio 5. Lab1B"
      ],
      "metadata": {
        "id": "iNqMchXodv3v"
      }
    },
    {
      "cell_type": "code",
      "source": [
        "df = pd.read_csv(\"iris.csv\")\n",
        "print(df)"
      ],
      "metadata": {
        "colab": {
          "base_uri": "https://localhost:8080/"
        },
        "id": "LKpLutGueKaz",
        "outputId": "42275256-3be1-4950-a826-b535a184487d"
      },
      "execution_count": 58,
      "outputs": [
        {
          "output_type": "stream",
          "name": "stdout",
          "text": [
            "    sepal.length  sepal.width  petal.length  petal.width     variety\n",
            "0            5.1          3.5           1.4          0.2      Setosa\n",
            "1            4.9          3.0           1.4          0.2      Setosa\n",
            "2            4.7          3.2           1.3          0.2      Setosa\n",
            "3            4.6          3.1           1.5          0.2      Setosa\n",
            "4            5.0          3.6           1.4          0.2      Setosa\n",
            "..           ...          ...           ...          ...         ...\n",
            "87           6.3          2.3           4.4          1.3  Versicolor\n",
            "88           5.6          3.0           4.1          1.3  Versicolor\n",
            "89           5.5          2.5           4.0          1.3  Versicolor\n",
            "90           5.5          2.6           4.4          1.2  Versicolor\n",
            "91           6.1          3.0           4.6          1.4  Versicolor\n",
            "\n",
            "[92 rows x 5 columns]\n"
          ]
        }
      ]
    },
    {
      "cell_type": "markdown",
      "source": [
        "2."
      ],
      "metadata": {
        "id": "EePKZrHVd4Mp"
      }
    },
    {
      "cell_type": "code",
      "source": [
        "df[\"variety\"] = df[\"variety\"].astype(\"string\")\n",
        "print(df.dtypes)"
      ],
      "metadata": {
        "colab": {
          "base_uri": "https://localhost:8080/"
        },
        "id": "1_1OHsqPehMX",
        "outputId": "8579c512-7869-4daa-d063-a3b9a3d1b18d"
      },
      "execution_count": 64,
      "outputs": [
        {
          "output_type": "stream",
          "name": "stdout",
          "text": [
            "sepal.length           float64\n",
            "sepal.width            float64\n",
            "petal.length           float64\n",
            "petal.width            float64\n",
            "variety         string[python]\n",
            "dtype: object\n"
          ]
        }
      ]
    },
    {
      "cell_type": "markdown",
      "source": [
        "3."
      ],
      "metadata": {
        "id": "SN0M4ehNeLOW"
      }
    },
    {
      "cell_type": "code",
      "source": [
        "claves = list(sns.palettes.SEABORN_PALETTES.keys())\n",
        "titulos = [df.columns.tolist()]\n",
        "for i in range(4):\n",
        "  x = random.randint(0, 10)\n",
        "  color = sns.palettes.SEABORN_PALETTES[claves[x]]\n",
        "  sns.boxplot(data = df.iloc[:, i])\n",
        "  plt.title(titulos[0][i])\n",
        "  plt.show()"
      ],
      "metadata": {
        "colab": {
          "base_uri": "https://localhost:8080/",
          "height": 1000
        },
        "id": "nm8iH_U-eMFh",
        "outputId": "053df9d9-a87b-40cd-c65a-65483c5713a2"
      },
      "execution_count": 73,
      "outputs": [
        {
          "output_type": "display_data",
          "data": {
            "text/plain": [
              "<Figure size 640x480 with 1 Axes>"
            ],
            "image/png": "[encoded data removed]"
          },
          "metadata": {}
        },
        {
          "output_type": "display_data",
          "data": {
            "text/plain": [
              "<Figure size 640x480 with 1 Axes>"
            ],
            "image/png": "[encoded data removed]"
          },
          "metadata": {}
        },
        {
          "output_type": "display_data",
          "data": {
            "text/plain": [
              "<Figure size 640x480 with 1 Axes>"
            ],
            "image/png": "[encoded data removed]"
          },
          "metadata": {}
        },
        {
          "output_type": "display_data",
          "data": {
            "text/plain": [
              "<Figure size 640x480 with 1 Axes>"
            ],
            "image/png": "[encoded data removed]"
          },
          "metadata": {}
        }
      ]
    },
    {
      "cell_type": "markdown",
      "source": [
        "4."
      ],
      "metadata": {
        "id": "_tpP-d7qeMW1"
      }
    },
    {
      "cell_type": "code",
      "source": [
        "sns.boxplot(data = df , x =\"variety\", y = \"sepal.width\")\n",
        "plt.title(\"Ancho del Sepal\")\n",
        "plt.xlabel(\"Especie\")\n",
        "plt.show()\n",
        "estadistica = df.groupby(\"variety\")[\"sepal.width\"].agg(Q1=lambda x: x.quantile(0.25),Q3=lambda x: x.quantile(0.75),Media=\"mean\")\n",
        "print(estadistica)\n"
      ],
      "metadata": {
        "colab": {
          "base_uri": "https://localhost:8080/",
          "height": 543
        },
        "id": "oFPQa3mLeMzo",
        "outputId": "5b87315d-e6f0-4aef-9a20-2454db1d4256"
      },
      "execution_count": 82,
      "outputs": [
        {
          "output_type": "display_data",
          "data": {
            "text/plain": [
              "<Figure size 640x480 with 1 Axes>"
            ],
            "image/png": "[encoded data removed]"
          },
          "metadata": {}
        },
        {
          "output_type": "stream",
          "name": "stdout",
          "text": [
            "               Q1     Q3     Media\n",
            "variety                           \n",
            "Setosa      3.200  3.675  3.428000\n",
            "Versicolor  2.525  3.000  2.780952\n"
          ]
        }
      ]
    },
    {
      "cell_type": "markdown",
      "source": [
        "5."
      ],
      "metadata": {
        "id": "5heWsxLKeNT9"
      }
    },
    {
      "cell_type": "code",
      "source": [
        "sns.boxplot(data = df , x =\"variety\", y = \"sepal.width\")\n",
        "plt.title(\"Ancho del Sepal\")\n",
        "plt.xlabel(\"Especie\")\n",
        "sns.swarmplot(data=df, x=\"variety\", y=\"sepal.width\")\n",
        "plt.show()"
      ],
      "metadata": {
        "colab": {
          "base_uri": "https://localhost:8080/",
          "height": 472
        },
        "id": "uW1PBjXGeNqq",
        "outputId": "41eba003-722d-4721-ec1c-cd9f28909e61"
      },
      "execution_count": 75,
      "outputs": [
        {
          "output_type": "display_data",
          "data": {
            "text/plain": [
              "<Figure size 640x480 with 1 Axes>"
            ],
            "image/png": "[encoded data removed]"
          },
          "metadata": {}
        }
      ]
    },
    {
      "cell_type": "markdown",
      "source": [
        "6."
      ],
      "metadata": {
        "id": "JutaTrd3ePqX"
      }
    },
    {
      "cell_type": "code",
      "source": [
        "fig,cuadros = plt.subplots(2, 2, figsize = (10,10))\n",
        "sns.boxplot(data = df , x =\"variety\", y = \"sepal.width\", ax = cuadros[0, 0])\n",
        "sns.boxplot(data = df , x =\"variety\", y = \"sepal.length\", ax = cuadros[0, 1])\n",
        "sns.boxplot(data = df, x =\"variety\", y = \"petal.length\", ax = cuadros[1,0])\n",
        "sns.boxplot(data = df, x = \"variety\", y = \"petal.width\", ax = cuadros[1,1])\n",
        "cuadros[0,0].set_title(\"Ancho del Sepal\")\n",
        "cuadros[0,1].set_title(\"Largo del Sepal \")\n",
        "cuadros[1,0].set_title(\"Largo del Petalo \")\n",
        "cuadros[1,1].set_title(\"Ancho del Petalo\")\n",
        "plt.show()"
      ],
      "metadata": {
        "colab": {
          "base_uri": "https://localhost:8080/",
          "height": 872
        },
        "id": "1F5EyPj5gJy1",
        "outputId": "e8172fd7-ebcc-4e2c-cc86-f828d6eb5396"
      },
      "execution_count": 80,
      "outputs": [
        {
          "output_type": "display_data",
          "data": {
            "text/plain": [
              "<Figure size 1000x1000 with 4 Axes>"
            ],
            "image/png": "[encoded data removed]"
          },
          "metadata": {}
        }
      ]
    },
    {
      "cell_type": "markdown",
      "source": [
        "7.La variable que mejor discrimina las especies es el largo de los petalos ya que en las distribuciones se encuentra mas separada una especie de la otra."
      ],
      "metadata": {
        "id": "xL9YIkfBhwSX"
      }
    },
    {
      "cell_type": "markdown",
      "source": [
        "8.La variable que despliega outliers es el ancho del sepal en la especie setosa."
      ],
      "metadata": {
        "id": "ACjoNVwpiQUw"
      }
    }
  ]
}